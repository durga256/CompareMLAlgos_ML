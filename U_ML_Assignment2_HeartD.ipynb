{
 "cells": [
  {
   "cell_type": "code",
   "execution_count": 1,
   "id": "85b79924",
   "metadata": {},
   "outputs": [],
   "source": [
    "import pandas as pd\n",
    "import matplotlib.pyplot as plt\n",
    "import numpy as np"
   ]
  },
  {
   "cell_type": "code",
   "execution_count": 2,
   "id": "10ea9157",
   "metadata": {},
   "outputs": [],
   "source": [
    "from sklearn.linear_model import LogisticRegression\n",
    "from sklearn.model_selection import cross_val_score, cross_validate, GridSearchCV\n",
    "from sklearn.preprocessing import MinMaxScaler\n",
    "from sklearn.svm import SVC\n",
    "from sklearn import metrics\n",
    "from sklearn.tree import DecisionTreeClassifier\n",
    "from sklearn.neighbors import KNeighborsClassifier\n",
    "from sklearn.ensemble import RandomForestClassifier, GradientBoostingClassifier\n",
    "from sklearn.neural_network import MLPClassifier"
   ]
  },
  {
   "cell_type": "code",
   "execution_count": 3,
   "id": "f77051cc",
   "metadata": {},
   "outputs": [],
   "source": [
    "data = pd.read_csv(r'C:\\Users\\durga\\Desktop\\uOttawa\\Term1\\ML_HernaViktor\\Assignments\\Assignment2\\heart_cleveland_upload.csv')"
   ]
  },
  {
   "cell_type": "code",
   "execution_count": 4,
   "id": "bbc735ff",
   "metadata": {},
   "outputs": [
    {
     "data": {
      "text/plain": [
       "age          float64\n",
       "sex          float64\n",
       "cp           float64\n",
       "trestbps     float64\n",
       "chol         float64\n",
       "fbs          float64\n",
       "restecg      float64\n",
       "thalach      float64\n",
       "exang        float64\n",
       "oldpeak      float64\n",
       "slope        float64\n",
       "ca           float64\n",
       "thal         float64\n",
       "condition    float64\n",
       "dtype: object"
      ]
     },
     "execution_count": 4,
     "metadata": {},
     "output_type": "execute_result"
    }
   ],
   "source": [
    "#convert numeric data to float datatype\n",
    "data = data.astype(str).astype(float)\n",
    "data.dtypes"
   ]
  },
  {
   "cell_type": "code",
   "execution_count": 5,
   "id": "a87e38e0",
   "metadata": {},
   "outputs": [
    {
     "data": {
      "text/html": [
       "<div>\n",
       "<style scoped>\n",
       "    .dataframe tbody tr th:only-of-type {\n",
       "        vertical-align: middle;\n",
       "    }\n",
       "\n",
       "    .dataframe tbody tr th {\n",
       "        vertical-align: top;\n",
       "    }\n",
       "\n",
       "    .dataframe thead th {\n",
       "        text-align: right;\n",
       "    }\n",
       "</style>\n",
       "<table border=\"1\" class=\"dataframe\">\n",
       "  <thead>\n",
       "    <tr style=\"text-align: right;\">\n",
       "      <th></th>\n",
       "      <th>0</th>\n",
       "    </tr>\n",
       "  </thead>\n",
       "  <tbody>\n",
       "    <tr>\n",
       "      <th>chol</th>\n",
       "      <td>2703.748589</td>\n",
       "    </tr>\n",
       "    <tr>\n",
       "      <th>thalach</th>\n",
       "      <td>526.315270</td>\n",
       "    </tr>\n",
       "    <tr>\n",
       "      <th>trestbps</th>\n",
       "      <td>315.517290</td>\n",
       "    </tr>\n",
       "    <tr>\n",
       "      <th>age</th>\n",
       "      <td>81.897716</td>\n",
       "    </tr>\n",
       "    <tr>\n",
       "      <th>oldpeak</th>\n",
       "      <td>1.359842</td>\n",
       "    </tr>\n",
       "    <tr>\n",
       "      <th>restecg</th>\n",
       "      <td>0.989853</td>\n",
       "    </tr>\n",
       "    <tr>\n",
       "      <th>cp</th>\n",
       "      <td>0.930954</td>\n",
       "    </tr>\n",
       "    <tr>\n",
       "      <th>thal</th>\n",
       "      <td>0.915256</td>\n",
       "    </tr>\n",
       "    <tr>\n",
       "      <th>ca</th>\n",
       "      <td>0.881654</td>\n",
       "    </tr>\n",
       "    <tr>\n",
       "      <th>slope</th>\n",
       "      <td>0.382155</td>\n",
       "    </tr>\n",
       "    <tr>\n",
       "      <th>exang</th>\n",
       "      <td>0.220675</td>\n",
       "    </tr>\n",
       "    <tr>\n",
       "      <th>sex</th>\n",
       "      <td>0.219492</td>\n",
       "    </tr>\n",
       "    <tr>\n",
       "      <th>fbs</th>\n",
       "      <td>0.124238</td>\n",
       "    </tr>\n",
       "  </tbody>\n",
       "</table>\n",
       "</div>"
      ],
      "text/plain": [
       "                    0\n",
       "chol      2703.748589\n",
       "thalach    526.315270\n",
       "trestbps   315.517290\n",
       "age         81.897716\n",
       "oldpeak      1.359842\n",
       "restecg      0.989853\n",
       "cp           0.930954\n",
       "thal         0.915256\n",
       "ca           0.881654\n",
       "slope        0.382155\n",
       "exang        0.220675\n",
       "sex          0.219492\n",
       "fbs          0.124238"
      ]
     },
     "execution_count": 5,
     "metadata": {},
     "output_type": "execute_result"
    }
   ],
   "source": [
    "#feature selection - remove least variance\n",
    "L = pd.DataFrame(data.drop(columns='condition').var())\n",
    "L = L.sort_values(by=[0], ascending=False)\n",
    "L"
   ]
  },
  {
   "cell_type": "code",
   "execution_count": 6,
   "id": "5610fe45",
   "metadata": {},
   "outputs": [
    {
     "data": {
      "text/html": [
       "<div>\n",
       "<style scoped>\n",
       "    .dataframe tbody tr th:only-of-type {\n",
       "        vertical-align: middle;\n",
       "    }\n",
       "\n",
       "    .dataframe tbody tr th {\n",
       "        vertical-align: top;\n",
       "    }\n",
       "\n",
       "    .dataframe thead th {\n",
       "        text-align: right;\n",
       "    }\n",
       "</style>\n",
       "<table border=\"1\" class=\"dataframe\">\n",
       "  <thead>\n",
       "    <tr style=\"text-align: right;\">\n",
       "      <th></th>\n",
       "      <th>age</th>\n",
       "      <th>sex</th>\n",
       "      <th>cp</th>\n",
       "      <th>trestbps</th>\n",
       "      <th>chol</th>\n",
       "      <th>restecg</th>\n",
       "      <th>thalach</th>\n",
       "      <th>exang</th>\n",
       "      <th>oldpeak</th>\n",
       "      <th>slope</th>\n",
       "      <th>ca</th>\n",
       "      <th>thal</th>\n",
       "      <th>condition</th>\n",
       "    </tr>\n",
       "  </thead>\n",
       "  <tbody>\n",
       "    <tr>\n",
       "      <th>0</th>\n",
       "      <td>69.0</td>\n",
       "      <td>1.0</td>\n",
       "      <td>0.0</td>\n",
       "      <td>160.0</td>\n",
       "      <td>234.0</td>\n",
       "      <td>2.0</td>\n",
       "      <td>131.0</td>\n",
       "      <td>0.0</td>\n",
       "      <td>0.1</td>\n",
       "      <td>1.0</td>\n",
       "      <td>1.0</td>\n",
       "      <td>0.0</td>\n",
       "      <td>0.0</td>\n",
       "    </tr>\n",
       "    <tr>\n",
       "      <th>1</th>\n",
       "      <td>69.0</td>\n",
       "      <td>0.0</td>\n",
       "      <td>0.0</td>\n",
       "      <td>140.0</td>\n",
       "      <td>239.0</td>\n",
       "      <td>0.0</td>\n",
       "      <td>151.0</td>\n",
       "      <td>0.0</td>\n",
       "      <td>1.8</td>\n",
       "      <td>0.0</td>\n",
       "      <td>2.0</td>\n",
       "      <td>0.0</td>\n",
       "      <td>0.0</td>\n",
       "    </tr>\n",
       "    <tr>\n",
       "      <th>2</th>\n",
       "      <td>66.0</td>\n",
       "      <td>0.0</td>\n",
       "      <td>0.0</td>\n",
       "      <td>150.0</td>\n",
       "      <td>226.0</td>\n",
       "      <td>0.0</td>\n",
       "      <td>114.0</td>\n",
       "      <td>0.0</td>\n",
       "      <td>2.6</td>\n",
       "      <td>2.0</td>\n",
       "      <td>0.0</td>\n",
       "      <td>0.0</td>\n",
       "      <td>0.0</td>\n",
       "    </tr>\n",
       "    <tr>\n",
       "      <th>3</th>\n",
       "      <td>65.0</td>\n",
       "      <td>1.0</td>\n",
       "      <td>0.0</td>\n",
       "      <td>138.0</td>\n",
       "      <td>282.0</td>\n",
       "      <td>2.0</td>\n",
       "      <td>174.0</td>\n",
       "      <td>0.0</td>\n",
       "      <td>1.4</td>\n",
       "      <td>1.0</td>\n",
       "      <td>1.0</td>\n",
       "      <td>0.0</td>\n",
       "      <td>1.0</td>\n",
       "    </tr>\n",
       "    <tr>\n",
       "      <th>4</th>\n",
       "      <td>64.0</td>\n",
       "      <td>1.0</td>\n",
       "      <td>0.0</td>\n",
       "      <td>110.0</td>\n",
       "      <td>211.0</td>\n",
       "      <td>2.0</td>\n",
       "      <td>144.0</td>\n",
       "      <td>1.0</td>\n",
       "      <td>1.8</td>\n",
       "      <td>1.0</td>\n",
       "      <td>0.0</td>\n",
       "      <td>0.0</td>\n",
       "      <td>0.0</td>\n",
       "    </tr>\n",
       "    <tr>\n",
       "      <th>...</th>\n",
       "      <td>...</td>\n",
       "      <td>...</td>\n",
       "      <td>...</td>\n",
       "      <td>...</td>\n",
       "      <td>...</td>\n",
       "      <td>...</td>\n",
       "      <td>...</td>\n",
       "      <td>...</td>\n",
       "      <td>...</td>\n",
       "      <td>...</td>\n",
       "      <td>...</td>\n",
       "      <td>...</td>\n",
       "      <td>...</td>\n",
       "    </tr>\n",
       "    <tr>\n",
       "      <th>292</th>\n",
       "      <td>40.0</td>\n",
       "      <td>1.0</td>\n",
       "      <td>3.0</td>\n",
       "      <td>152.0</td>\n",
       "      <td>223.0</td>\n",
       "      <td>0.0</td>\n",
       "      <td>181.0</td>\n",
       "      <td>0.0</td>\n",
       "      <td>0.0</td>\n",
       "      <td>0.0</td>\n",
       "      <td>0.0</td>\n",
       "      <td>2.0</td>\n",
       "      <td>1.0</td>\n",
       "    </tr>\n",
       "    <tr>\n",
       "      <th>293</th>\n",
       "      <td>39.0</td>\n",
       "      <td>1.0</td>\n",
       "      <td>3.0</td>\n",
       "      <td>118.0</td>\n",
       "      <td>219.0</td>\n",
       "      <td>0.0</td>\n",
       "      <td>140.0</td>\n",
       "      <td>0.0</td>\n",
       "      <td>1.2</td>\n",
       "      <td>1.0</td>\n",
       "      <td>0.0</td>\n",
       "      <td>2.0</td>\n",
       "      <td>1.0</td>\n",
       "    </tr>\n",
       "    <tr>\n",
       "      <th>294</th>\n",
       "      <td>35.0</td>\n",
       "      <td>1.0</td>\n",
       "      <td>3.0</td>\n",
       "      <td>120.0</td>\n",
       "      <td>198.0</td>\n",
       "      <td>0.0</td>\n",
       "      <td>130.0</td>\n",
       "      <td>1.0</td>\n",
       "      <td>1.6</td>\n",
       "      <td>1.0</td>\n",
       "      <td>0.0</td>\n",
       "      <td>2.0</td>\n",
       "      <td>1.0</td>\n",
       "    </tr>\n",
       "    <tr>\n",
       "      <th>295</th>\n",
       "      <td>35.0</td>\n",
       "      <td>0.0</td>\n",
       "      <td>3.0</td>\n",
       "      <td>138.0</td>\n",
       "      <td>183.0</td>\n",
       "      <td>0.0</td>\n",
       "      <td>182.0</td>\n",
       "      <td>0.0</td>\n",
       "      <td>1.4</td>\n",
       "      <td>0.0</td>\n",
       "      <td>0.0</td>\n",
       "      <td>0.0</td>\n",
       "      <td>0.0</td>\n",
       "    </tr>\n",
       "    <tr>\n",
       "      <th>296</th>\n",
       "      <td>35.0</td>\n",
       "      <td>1.0</td>\n",
       "      <td>3.0</td>\n",
       "      <td>126.0</td>\n",
       "      <td>282.0</td>\n",
       "      <td>2.0</td>\n",
       "      <td>156.0</td>\n",
       "      <td>1.0</td>\n",
       "      <td>0.0</td>\n",
       "      <td>0.0</td>\n",
       "      <td>0.0</td>\n",
       "      <td>2.0</td>\n",
       "      <td>1.0</td>\n",
       "    </tr>\n",
       "  </tbody>\n",
       "</table>\n",
       "<p>297 rows × 13 columns</p>\n",
       "</div>"
      ],
      "text/plain": [
       "      age  sex   cp  trestbps   chol  restecg  thalach  exang  oldpeak  slope  \\\n",
       "0    69.0  1.0  0.0     160.0  234.0      2.0    131.0    0.0      0.1    1.0   \n",
       "1    69.0  0.0  0.0     140.0  239.0      0.0    151.0    0.0      1.8    0.0   \n",
       "2    66.0  0.0  0.0     150.0  226.0      0.0    114.0    0.0      2.6    2.0   \n",
       "3    65.0  1.0  0.0     138.0  282.0      2.0    174.0    0.0      1.4    1.0   \n",
       "4    64.0  1.0  0.0     110.0  211.0      2.0    144.0    1.0      1.8    1.0   \n",
       "..    ...  ...  ...       ...    ...      ...      ...    ...      ...    ...   \n",
       "292  40.0  1.0  3.0     152.0  223.0      0.0    181.0    0.0      0.0    0.0   \n",
       "293  39.0  1.0  3.0     118.0  219.0      0.0    140.0    0.0      1.2    1.0   \n",
       "294  35.0  1.0  3.0     120.0  198.0      0.0    130.0    1.0      1.6    1.0   \n",
       "295  35.0  0.0  3.0     138.0  183.0      0.0    182.0    0.0      1.4    0.0   \n",
       "296  35.0  1.0  3.0     126.0  282.0      2.0    156.0    1.0      0.0    0.0   \n",
       "\n",
       "      ca  thal  condition  \n",
       "0    1.0   0.0        0.0  \n",
       "1    2.0   0.0        0.0  \n",
       "2    0.0   0.0        0.0  \n",
       "3    1.0   0.0        1.0  \n",
       "4    0.0   0.0        0.0  \n",
       "..   ...   ...        ...  \n",
       "292  0.0   2.0        1.0  \n",
       "293  0.0   2.0        1.0  \n",
       "294  0.0   2.0        1.0  \n",
       "295  0.0   0.0        0.0  \n",
       "296  0.0   2.0        1.0  \n",
       "\n",
       "[297 rows x 13 columns]"
      ]
     },
     "execution_count": 6,
     "metadata": {},
     "output_type": "execute_result"
    }
   ],
   "source": [
    "#dropping values with variance < 0.15(variance < 0.15 means the data is constant for more than 85% of the data)\n",
    "data = data.drop(columns=['fbs'])\n",
    "data"
   ]
  },
  {
   "cell_type": "code",
   "execution_count": 7,
   "id": "9e9bcd60",
   "metadata": {},
   "outputs": [],
   "source": [
    "#feature scaling\n",
    "scaler = MinMaxScaler()\n",
    "scaler.fit(data)\n",
    "D_transformed = scaler.transform(data)"
   ]
  },
  {
   "cell_type": "code",
   "execution_count": 8,
   "id": "9ce86ae4",
   "metadata": {},
   "outputs": [
    {
     "data": {
      "text/html": [
       "<div>\n",
       "<style scoped>\n",
       "    .dataframe tbody tr th:only-of-type {\n",
       "        vertical-align: middle;\n",
       "    }\n",
       "\n",
       "    .dataframe tbody tr th {\n",
       "        vertical-align: top;\n",
       "    }\n",
       "\n",
       "    .dataframe thead th {\n",
       "        text-align: right;\n",
       "    }\n",
       "</style>\n",
       "<table border=\"1\" class=\"dataframe\">\n",
       "  <thead>\n",
       "    <tr style=\"text-align: right;\">\n",
       "      <th></th>\n",
       "      <th>age</th>\n",
       "      <th>sex</th>\n",
       "      <th>cp</th>\n",
       "      <th>trestbps</th>\n",
       "      <th>chol</th>\n",
       "      <th>restecg</th>\n",
       "      <th>thalach</th>\n",
       "      <th>exang</th>\n",
       "      <th>oldpeak</th>\n",
       "      <th>slope</th>\n",
       "      <th>ca</th>\n",
       "      <th>thal</th>\n",
       "      <th>condition</th>\n",
       "    </tr>\n",
       "  </thead>\n",
       "  <tbody>\n",
       "    <tr>\n",
       "      <th>0</th>\n",
       "      <td>0.833333</td>\n",
       "      <td>1.0</td>\n",
       "      <td>0.0</td>\n",
       "      <td>0.622642</td>\n",
       "      <td>0.246575</td>\n",
       "      <td>1.0</td>\n",
       "      <td>0.458015</td>\n",
       "      <td>0.0</td>\n",
       "      <td>0.016129</td>\n",
       "      <td>0.5</td>\n",
       "      <td>0.333333</td>\n",
       "      <td>0.0</td>\n",
       "      <td>0.0</td>\n",
       "    </tr>\n",
       "    <tr>\n",
       "      <th>1</th>\n",
       "      <td>0.833333</td>\n",
       "      <td>0.0</td>\n",
       "      <td>0.0</td>\n",
       "      <td>0.433962</td>\n",
       "      <td>0.257991</td>\n",
       "      <td>0.0</td>\n",
       "      <td>0.610687</td>\n",
       "      <td>0.0</td>\n",
       "      <td>0.290323</td>\n",
       "      <td>0.0</td>\n",
       "      <td>0.666667</td>\n",
       "      <td>0.0</td>\n",
       "      <td>0.0</td>\n",
       "    </tr>\n",
       "    <tr>\n",
       "      <th>2</th>\n",
       "      <td>0.770833</td>\n",
       "      <td>0.0</td>\n",
       "      <td>0.0</td>\n",
       "      <td>0.528302</td>\n",
       "      <td>0.228311</td>\n",
       "      <td>0.0</td>\n",
       "      <td>0.328244</td>\n",
       "      <td>0.0</td>\n",
       "      <td>0.419355</td>\n",
       "      <td>1.0</td>\n",
       "      <td>0.000000</td>\n",
       "      <td>0.0</td>\n",
       "      <td>0.0</td>\n",
       "    </tr>\n",
       "    <tr>\n",
       "      <th>3</th>\n",
       "      <td>0.750000</td>\n",
       "      <td>1.0</td>\n",
       "      <td>0.0</td>\n",
       "      <td>0.415094</td>\n",
       "      <td>0.356164</td>\n",
       "      <td>1.0</td>\n",
       "      <td>0.786260</td>\n",
       "      <td>0.0</td>\n",
       "      <td>0.225806</td>\n",
       "      <td>0.5</td>\n",
       "      <td>0.333333</td>\n",
       "      <td>0.0</td>\n",
       "      <td>1.0</td>\n",
       "    </tr>\n",
       "    <tr>\n",
       "      <th>4</th>\n",
       "      <td>0.729167</td>\n",
       "      <td>1.0</td>\n",
       "      <td>0.0</td>\n",
       "      <td>0.150943</td>\n",
       "      <td>0.194064</td>\n",
       "      <td>1.0</td>\n",
       "      <td>0.557252</td>\n",
       "      <td>1.0</td>\n",
       "      <td>0.290323</td>\n",
       "      <td>0.5</td>\n",
       "      <td>0.000000</td>\n",
       "      <td>0.0</td>\n",
       "      <td>0.0</td>\n",
       "    </tr>\n",
       "    <tr>\n",
       "      <th>...</th>\n",
       "      <td>...</td>\n",
       "      <td>...</td>\n",
       "      <td>...</td>\n",
       "      <td>...</td>\n",
       "      <td>...</td>\n",
       "      <td>...</td>\n",
       "      <td>...</td>\n",
       "      <td>...</td>\n",
       "      <td>...</td>\n",
       "      <td>...</td>\n",
       "      <td>...</td>\n",
       "      <td>...</td>\n",
       "      <td>...</td>\n",
       "    </tr>\n",
       "    <tr>\n",
       "      <th>292</th>\n",
       "      <td>0.229167</td>\n",
       "      <td>1.0</td>\n",
       "      <td>1.0</td>\n",
       "      <td>0.547170</td>\n",
       "      <td>0.221461</td>\n",
       "      <td>0.0</td>\n",
       "      <td>0.839695</td>\n",
       "      <td>0.0</td>\n",
       "      <td>0.000000</td>\n",
       "      <td>0.0</td>\n",
       "      <td>0.000000</td>\n",
       "      <td>1.0</td>\n",
       "      <td>1.0</td>\n",
       "    </tr>\n",
       "    <tr>\n",
       "      <th>293</th>\n",
       "      <td>0.208333</td>\n",
       "      <td>1.0</td>\n",
       "      <td>1.0</td>\n",
       "      <td>0.226415</td>\n",
       "      <td>0.212329</td>\n",
       "      <td>0.0</td>\n",
       "      <td>0.526718</td>\n",
       "      <td>0.0</td>\n",
       "      <td>0.193548</td>\n",
       "      <td>0.5</td>\n",
       "      <td>0.000000</td>\n",
       "      <td>1.0</td>\n",
       "      <td>1.0</td>\n",
       "    </tr>\n",
       "    <tr>\n",
       "      <th>294</th>\n",
       "      <td>0.125000</td>\n",
       "      <td>1.0</td>\n",
       "      <td>1.0</td>\n",
       "      <td>0.245283</td>\n",
       "      <td>0.164384</td>\n",
       "      <td>0.0</td>\n",
       "      <td>0.450382</td>\n",
       "      <td>1.0</td>\n",
       "      <td>0.258065</td>\n",
       "      <td>0.5</td>\n",
       "      <td>0.000000</td>\n",
       "      <td>1.0</td>\n",
       "      <td>1.0</td>\n",
       "    </tr>\n",
       "    <tr>\n",
       "      <th>295</th>\n",
       "      <td>0.125000</td>\n",
       "      <td>0.0</td>\n",
       "      <td>1.0</td>\n",
       "      <td>0.415094</td>\n",
       "      <td>0.130137</td>\n",
       "      <td>0.0</td>\n",
       "      <td>0.847328</td>\n",
       "      <td>0.0</td>\n",
       "      <td>0.225806</td>\n",
       "      <td>0.0</td>\n",
       "      <td>0.000000</td>\n",
       "      <td>0.0</td>\n",
       "      <td>0.0</td>\n",
       "    </tr>\n",
       "    <tr>\n",
       "      <th>296</th>\n",
       "      <td>0.125000</td>\n",
       "      <td>1.0</td>\n",
       "      <td>1.0</td>\n",
       "      <td>0.301887</td>\n",
       "      <td>0.356164</td>\n",
       "      <td>1.0</td>\n",
       "      <td>0.648855</td>\n",
       "      <td>1.0</td>\n",
       "      <td>0.000000</td>\n",
       "      <td>0.0</td>\n",
       "      <td>0.000000</td>\n",
       "      <td>1.0</td>\n",
       "      <td>1.0</td>\n",
       "    </tr>\n",
       "  </tbody>\n",
       "</table>\n",
       "<p>297 rows × 13 columns</p>\n",
       "</div>"
      ],
      "text/plain": [
       "          age  sex   cp  trestbps      chol  restecg   thalach  exang  \\\n",
       "0    0.833333  1.0  0.0  0.622642  0.246575      1.0  0.458015    0.0   \n",
       "1    0.833333  0.0  0.0  0.433962  0.257991      0.0  0.610687    0.0   \n",
       "2    0.770833  0.0  0.0  0.528302  0.228311      0.0  0.328244    0.0   \n",
       "3    0.750000  1.0  0.0  0.415094  0.356164      1.0  0.786260    0.0   \n",
       "4    0.729167  1.0  0.0  0.150943  0.194064      1.0  0.557252    1.0   \n",
       "..        ...  ...  ...       ...       ...      ...       ...    ...   \n",
       "292  0.229167  1.0  1.0  0.547170  0.221461      0.0  0.839695    0.0   \n",
       "293  0.208333  1.0  1.0  0.226415  0.212329      0.0  0.526718    0.0   \n",
       "294  0.125000  1.0  1.0  0.245283  0.164384      0.0  0.450382    1.0   \n",
       "295  0.125000  0.0  1.0  0.415094  0.130137      0.0  0.847328    0.0   \n",
       "296  0.125000  1.0  1.0  0.301887  0.356164      1.0  0.648855    1.0   \n",
       "\n",
       "      oldpeak  slope        ca  thal  condition  \n",
       "0    0.016129    0.5  0.333333   0.0        0.0  \n",
       "1    0.290323    0.0  0.666667   0.0        0.0  \n",
       "2    0.419355    1.0  0.000000   0.0        0.0  \n",
       "3    0.225806    0.5  0.333333   0.0        1.0  \n",
       "4    0.290323    0.5  0.000000   0.0        0.0  \n",
       "..        ...    ...       ...   ...        ...  \n",
       "292  0.000000    0.0  0.000000   1.0        1.0  \n",
       "293  0.193548    0.5  0.000000   1.0        1.0  \n",
       "294  0.258065    0.5  0.000000   1.0        1.0  \n",
       "295  0.225806    0.0  0.000000   0.0        0.0  \n",
       "296  0.000000    0.0  0.000000   1.0        1.0  \n",
       "\n",
       "[297 rows x 13 columns]"
      ]
     },
     "execution_count": 8,
     "metadata": {},
     "output_type": "execute_result"
    }
   ],
   "source": [
    "D_transformed = pd.DataFrame(D_transformed, columns=list(data.columns.values))\n",
    "D_transformed"
   ]
  },
  {
   "cell_type": "code",
   "execution_count": 9,
   "id": "05331208",
   "metadata": {},
   "outputs": [],
   "source": [
    "X = D_transformed.drop(columns=['condition']).values\n",
    "y = D_transformed['condition'].values"
   ]
  },
  {
   "cell_type": "code",
   "execution_count": 10,
   "id": "b0567fbe",
   "metadata": {},
   "outputs": [
    {
     "data": {
      "text/plain": [
       "0.5859887049917147"
      ]
     },
     "execution_count": 10,
     "metadata": {},
     "output_type": "execute_result"
    }
   ],
   "source": [
    "#SVM\n",
    "#mentioning default params\n",
    "clf = SVC(kernel=\"rbf\", C=1,random_state=0, gamma='scale')\n",
    "scores = cross_val_score(clf, X, y, cv=10)\n",
    "scores\n",
    "#finding default gamma\n",
    "gamma = 1 / (X.shape[1] * X.var())\n",
    "gamma"
   ]
  },
  {
   "cell_type": "code",
   "execution_count": 11,
   "id": "2cfc5df7",
   "metadata": {},
   "outputs": [
    {
     "name": "stdout",
     "output_type": "stream",
     "text": [
      "0.81 accuracy with a standard deviation of 0.10\n"
     ]
    }
   ],
   "source": [
    "#The mean score and the standard deviation are hence given by:\n",
    "print(\"%0.2f accuracy with a standard deviation of %0.2f\" % (scores.mean(), scores.std()))"
   ]
  },
  {
   "cell_type": "code",
   "execution_count": 12,
   "id": "582f13af",
   "metadata": {},
   "outputs": [],
   "source": [
    "hparams = {\"C\": (0.0001, 10000), \"gamma\": (0.0001, 10000)}\n",
    "def estimator(C, gamma):\n",
    "    # initialize model\n",
    "    model = SVC(C=C, gamma=gamma, degree=1, random_state=0)\n",
    "    # set in cross-validation\n",
    "    result = cross_validate(model, X, y, cv=10)\n",
    "    # result is mean of test_score\n",
    "    return np.mean(result['test_score'])\n",
    "from bayes_opt import BayesianOptimization\n",
    "# give model and hyperparameter to optmizer\n",
    "svc_bayesopt = BayesianOptimization(estimator, hparams)"
   ]
  },
  {
   "cell_type": "code",
   "execution_count": 13,
   "id": "3b614015",
   "metadata": {},
   "outputs": [
    {
     "name": "stdout",
     "output_type": "stream",
     "text": [
      "|   iter    |  target   |     C     |   gamma   |\n",
      "-------------------------------------------------\n",
      "| \u001b[0m1        \u001b[0m | \u001b[0m0.5389   \u001b[0m | \u001b[0m5.744e+03\u001b[0m | \u001b[0m7.246e+03\u001b[0m |\n",
      "| \u001b[0m2        \u001b[0m | \u001b[0m0.5389   \u001b[0m | \u001b[0m2.132e+03\u001b[0m | \u001b[0m1.008e+03\u001b[0m |\n",
      "| \u001b[0m3        \u001b[0m | \u001b[0m0.5389   \u001b[0m | \u001b[0m7.288e+03\u001b[0m | \u001b[0m500.5    \u001b[0m |\n",
      "| \u001b[0m4        \u001b[0m | \u001b[0m0.5389   \u001b[0m | \u001b[0m6.393e+03\u001b[0m | \u001b[0m9.643e+03\u001b[0m |\n",
      "| \u001b[0m5        \u001b[0m | \u001b[0m0.5389   \u001b[0m | \u001b[0m9.611e+03\u001b[0m | \u001b[0m9.592e+03\u001b[0m |\n",
      "| \u001b[0m6        \u001b[0m | \u001b[0m0.5389   \u001b[0m | \u001b[0m19.99    \u001b[0m | \u001b[0m9.872e+03\u001b[0m |\n",
      "| \u001b[95m7        \u001b[0m | \u001b[95m0.5455   \u001b[0m | \u001b[95m9.994e+03\u001b[0m | \u001b[95m88.16    \u001b[0m |\n",
      "| \u001b[0m8        \u001b[0m | \u001b[0m0.5389   \u001b[0m | \u001b[0m9.935e+03\u001b[0m | \u001b[0m213.9    \u001b[0m |\n",
      "| \u001b[0m9        \u001b[0m | \u001b[0m0.5389   \u001b[0m | \u001b[0m9.98e+03 \u001b[0m | \u001b[0m214.4    \u001b[0m |\n",
      "| \u001b[0m10       \u001b[0m | \u001b[0m0.5389   \u001b[0m | \u001b[0m4.396e+03\u001b[0m | \u001b[0m3.873e+03\u001b[0m |\n",
      "| \u001b[0m11       \u001b[0m | \u001b[0m0.5455   \u001b[0m | \u001b[0m9.842e+03\u001b[0m | \u001b[0m110.5    \u001b[0m |\n",
      "| \u001b[95m12       \u001b[0m | \u001b[95m0.6031   \u001b[0m | \u001b[95m9.882e+03\u001b[0m | \u001b[95m31.92    \u001b[0m |\n",
      "| \u001b[0m13       \u001b[0m | \u001b[0m0.5389   \u001b[0m | \u001b[0m3.584e+03\u001b[0m | \u001b[0m8.529e+03\u001b[0m |\n",
      "| \u001b[0m14       \u001b[0m | \u001b[0m0.5389   \u001b[0m | \u001b[0m5.079e+03\u001b[0m | \u001b[0m3.76e+03 \u001b[0m |\n",
      "| \u001b[95m15       \u001b[0m | \u001b[95m0.6795   \u001b[0m | \u001b[95m9.816e+03\u001b[0m | \u001b[95m11.62    \u001b[0m |\n",
      "| \u001b[0m16       \u001b[0m | \u001b[0m0.6594   \u001b[0m | \u001b[0m9.82e+03 \u001b[0m | \u001b[0m15.09    \u001b[0m |\n",
      "| \u001b[0m17       \u001b[0m | \u001b[0m0.5489   \u001b[0m | \u001b[0m9.8e+03  \u001b[0m | \u001b[0m76.0     \u001b[0m |\n",
      "| \u001b[0m18       \u001b[0m | \u001b[0m0.5931   \u001b[0m | \u001b[0m9.895e+03\u001b[0m | \u001b[0m39.35    \u001b[0m |\n",
      "| \u001b[0m19       \u001b[0m | \u001b[0m0.6263   \u001b[0m | \u001b[0m9.701e+03\u001b[0m | \u001b[0m17.63    \u001b[0m |\n",
      "| \u001b[95m20       \u001b[0m | \u001b[95m0.7406   \u001b[0m | \u001b[95m9.712e+03\u001b[0m | \u001b[95m5.562    \u001b[0m |\n",
      "| \u001b[0m21       \u001b[0m | \u001b[0m0.6594   \u001b[0m | \u001b[0m9.771e+03\u001b[0m | \u001b[0m14.28    \u001b[0m |\n",
      "| \u001b[0m22       \u001b[0m | \u001b[0m0.5389   \u001b[0m | \u001b[0m9.628e+03\u001b[0m | \u001b[0m7.347e+03\u001b[0m |\n",
      "| \u001b[0m23       \u001b[0m | \u001b[0m0.5759   \u001b[0m | \u001b[0m9.739e+03\u001b[0m | \u001b[0m44.47    \u001b[0m |\n",
      "| \u001b[0m24       \u001b[0m | \u001b[0m0.5389   \u001b[0m | \u001b[0m131.0    \u001b[0m | \u001b[0m947.4    \u001b[0m |\n",
      "| \u001b[0m25       \u001b[0m | \u001b[0m0.6628   \u001b[0m | \u001b[0m9.645e+03\u001b[0m | \u001b[0m14.5     \u001b[0m |\n",
      "| \u001b[0m26       \u001b[0m | \u001b[0m0.6762   \u001b[0m | \u001b[0m9.911e+03\u001b[0m | \u001b[0m11.98    \u001b[0m |\n",
      "| \u001b[0m27       \u001b[0m | \u001b[0m0.5828   \u001b[0m | \u001b[0m9.648e+03\u001b[0m | \u001b[0m41.28    \u001b[0m |\n",
      "| \u001b[0m28       \u001b[0m | \u001b[0m0.6597   \u001b[0m | \u001b[0m9.67e+03 \u001b[0m | \u001b[0m15.62    \u001b[0m |\n",
      "| \u001b[0m29       \u001b[0m | \u001b[0m0.6695   \u001b[0m | \u001b[0m9.622e+03\u001b[0m | \u001b[0m13.25    \u001b[0m |\n",
      "| \u001b[0m30       \u001b[0m | \u001b[0m0.6064   \u001b[0m | \u001b[0m9.469e+03\u001b[0m | \u001b[0m29.73    \u001b[0m |\n",
      "| \u001b[0m31       \u001b[0m | \u001b[0m0.6299   \u001b[0m | \u001b[0m9.963e+03\u001b[0m | \u001b[0m23.66    \u001b[0m |\n",
      "| \u001b[0m32       \u001b[0m | \u001b[0m0.6098   \u001b[0m | \u001b[0m9.601e+03\u001b[0m | \u001b[0m27.62    \u001b[0m |\n",
      "| \u001b[95m33       \u001b[0m | \u001b[95m0.7646   \u001b[0m | \u001b[95m9.704e+03\u001b[0m | \u001b[95m0.6904   \u001b[0m |\n",
      "| \u001b[0m34       \u001b[0m | \u001b[0m0.5556   \u001b[0m | \u001b[0m9.515e+03\u001b[0m | \u001b[0m73.57    \u001b[0m |\n",
      "| \u001b[0m35       \u001b[0m | \u001b[0m0.7372   \u001b[0m | \u001b[0m9.926e+03\u001b[0m | \u001b[0m6.048    \u001b[0m |\n",
      "| \u001b[0m36       \u001b[0m | \u001b[0m0.7203   \u001b[0m | \u001b[0m9.365e+03\u001b[0m | \u001b[0m8.536    \u001b[0m |\n",
      "| \u001b[0m37       \u001b[0m | \u001b[0m0.7507   \u001b[0m | \u001b[0m9.321e+03\u001b[0m | \u001b[0m2.501    \u001b[0m |\n",
      "| \u001b[0m38       \u001b[0m | \u001b[0m0.5389   \u001b[0m | \u001b[0m9.309e+03\u001b[0m | \u001b[0m193.0    \u001b[0m |\n",
      "| \u001b[0m39       \u001b[0m | \u001b[0m0.6231   \u001b[0m | \u001b[0m9.422e+03\u001b[0m | \u001b[0m24.01    \u001b[0m |\n",
      "| \u001b[0m40       \u001b[0m | \u001b[0m0.5589   \u001b[0m | \u001b[0m9.279e+03\u001b[0m | \u001b[0m63.04    \u001b[0m |\n",
      "| \u001b[0m41       \u001b[0m | \u001b[0m0.5455   \u001b[0m | \u001b[0m9.395e+03\u001b[0m | \u001b[0m106.8    \u001b[0m |\n",
      "| \u001b[0m42       \u001b[0m | \u001b[0m0.5389   \u001b[0m | \u001b[0m4.691e+03\u001b[0m | \u001b[0m5.316e+03\u001b[0m |\n",
      "| \u001b[0m43       \u001b[0m | \u001b[0m0.5589   \u001b[0m | \u001b[0m9.328e+03\u001b[0m | \u001b[0m60.14    \u001b[0m |\n",
      "| \u001b[0m44       \u001b[0m | \u001b[0m0.5389   \u001b[0m | \u001b[0m1.53e+03 \u001b[0m | \u001b[0m6.148e+03\u001b[0m |\n",
      "| \u001b[0m45       \u001b[0m | \u001b[0m0.6162   \u001b[0m | \u001b[0m9.38e+03 \u001b[0m | \u001b[0m18.43    \u001b[0m |\n",
      "| \u001b[0m46       \u001b[0m | \u001b[0m0.6434   \u001b[0m | \u001b[0m9.36e+03 \u001b[0m | \u001b[0m19.25    \u001b[0m |\n",
      "| \u001b[0m47       \u001b[0m | \u001b[0m0.5389   \u001b[0m | \u001b[0m2.801e+03\u001b[0m | \u001b[0m7.366e+03\u001b[0m |\n",
      "| \u001b[0m48       \u001b[0m | \u001b[0m0.5389   \u001b[0m | \u001b[0m2.791e+03\u001b[0m | \u001b[0m4.961e+03\u001b[0m |\n",
      "| \u001b[0m49       \u001b[0m | \u001b[0m0.6097   \u001b[0m | \u001b[0m9.788e+03\u001b[0m | \u001b[0m26.88    \u001b[0m |\n",
      "| \u001b[0m50       \u001b[0m | \u001b[0m0.5389   \u001b[0m | \u001b[0m4.98e+03 \u001b[0m | \u001b[0m2.954e+03\u001b[0m |\n",
      "| \u001b[0m51       \u001b[0m | \u001b[0m0.7474   \u001b[0m | \u001b[0m9.663e+03\u001b[0m | \u001b[0m2.422    \u001b[0m |\n",
      "| \u001b[0m52       \u001b[0m | \u001b[0m0.6963   \u001b[0m | \u001b[0m9.252e+03\u001b[0m | \u001b[0m11.17    \u001b[0m |\n",
      "| \u001b[0m53       \u001b[0m | \u001b[0m0.5759   \u001b[0m | \u001b[0m9.241e+03\u001b[0m | \u001b[0m45.78    \u001b[0m |\n",
      "| \u001b[0m54       \u001b[0m | \u001b[0m0.6762   \u001b[0m | \u001b[0m9.23e+03 \u001b[0m | \u001b[0m12.13    \u001b[0m |\n",
      "| \u001b[0m55       \u001b[0m | \u001b[0m0.7375   \u001b[0m | \u001b[0m9.098e+03\u001b[0m | \u001b[0m0.1923   \u001b[0m |\n",
      "=================================================\n"
     ]
    },
    {
     "data": {
      "text/plain": [
       "{'target': 0.7645977011494253,\n",
       " 'params': {'C': 9703.943106249999, 'gamma': 0.6904447753469372}}"
      ]
     },
     "execution_count": 13,
     "metadata": {},
     "output_type": "execute_result"
    }
   ],
   "source": [
    "svc_bayesopt.maximize(init_points=5, n_iter=50, acq='ucb')\n",
    "svc_bayesopt.max"
   ]
  },
  {
   "cell_type": "code",
   "execution_count": 14,
   "id": "2d6ae861",
   "metadata": {},
   "outputs": [
    {
     "data": {
      "text/plain": [
       "array([0.56666667, 0.83333333, 0.93333333, 0.9       , 0.83333333,\n",
       "       0.83333333, 1.        , 0.86206897, 0.82758621, 0.79310345])"
      ]
     },
     "execution_count": 14,
     "metadata": {},
     "output_type": "execute_result"
    }
   ],
   "source": [
    "#SVM\n",
    "#{'target': 0.8382758620689655,'params': {'C': 9.993231110534596, 'gamma': 0.025674348882233595}}\n",
    "#inserting our optimized params\n",
    "clf = SVC(kernel=\"rbf\", C=9.993231110534596,random_state=0, gamma=0.025674348882233595)\n",
    "scores = cross_val_score(clf, X, y, cv=10)\n",
    "scores"
   ]
  },
  {
   "cell_type": "code",
   "execution_count": 15,
   "id": "5fe868c2",
   "metadata": {},
   "outputs": [
    {
     "name": "stdout",
     "output_type": "stream",
     "text": [
      "0.84 accuracy with a standard deviation of 0.11\n"
     ]
    }
   ],
   "source": [
    "#The mean score and the standard deviation are hence given by:\n",
    "print(\"%0.2f accuracy with a standard deviation of %0.2f\" % (scores.mean(), scores.std()))"
   ]
  },
  {
   "cell_type": "code",
   "execution_count": 16,
   "id": "ee31cfc0",
   "metadata": {},
   "outputs": [
    {
     "data": {
      "text/plain": [
       "array([0.56666667, 0.5       , 0.63333333, 0.86666667, 0.76666667,\n",
       "       0.93333333, 0.9       , 0.75862069, 0.48275862, 0.79310345])"
      ]
     },
     "execution_count": 16,
     "metadata": {},
     "output_type": "execute_result"
    }
   ],
   "source": [
    "#DT\n",
    "clf = DecisionTreeClassifier(criterion='gini',max_depth=4,random_state=0)\n",
    "scores = cross_val_score(clf, X, y, cv=10)\n",
    "scores"
   ]
  },
  {
   "cell_type": "code",
   "execution_count": 17,
   "id": "78be9cd4",
   "metadata": {},
   "outputs": [
    {
     "name": "stdout",
     "output_type": "stream",
     "text": [
      "0.72 accuracy with a standard deviation of 0.16\n"
     ]
    }
   ],
   "source": [
    "#The mean score and the standard deviation are hence given by:\n",
    "print(\"%0.2f accuracy with a standard deviation of %0.2f\" % (scores.mean(), scores.std()))"
   ]
  },
  {
   "cell_type": "code",
   "execution_count": 18,
   "id": "aa9d9d5e",
   "metadata": {},
   "outputs": [],
   "source": [
    "hparams = {\"min_samples_leaf\": (0.1, 0.5), \"min_samples_split\": (0.1, 1.0)}\n",
    "def estimator(min_samples_leaf, min_samples_split):\n",
    "    # initialize model\n",
    "    model = DecisionTreeClassifier(min_samples_leaf=min_samples_leaf, min_samples_split=min_samples_split)\n",
    "    # set in cross-validation\n",
    "    result = cross_validate(model, X, y, cv=10)\n",
    "    # result is mean of test_score\n",
    "    return np.mean(result['test_score'])\n",
    "from bayes_opt import BayesianOptimization\n",
    "# give model and hyperparameter to optmizer\n",
    "dt_bayesopt = BayesianOptimization(estimator, hparams)"
   ]
  },
  {
   "cell_type": "code",
   "execution_count": 19,
   "id": "326eda21",
   "metadata": {},
   "outputs": [
    {
     "name": "stdout",
     "output_type": "stream",
     "text": [
      "|   iter    |  target   | min_sa... | min_sa... |\n",
      "-------------------------------------------------\n",
      "| \u001b[0m1        \u001b[0m | \u001b[0m0.659    \u001b[0m | \u001b[0m0.2118   \u001b[0m | \u001b[0m0.3837   \u001b[0m |\n",
      "| \u001b[0m2        \u001b[0m | \u001b[0m0.6323   \u001b[0m | \u001b[0m0.1394   \u001b[0m | \u001b[0m0.3609   \u001b[0m |\n",
      "| \u001b[0m3        \u001b[0m | \u001b[0m0.6285   \u001b[0m | \u001b[0m0.4798   \u001b[0m | \u001b[0m0.8326   \u001b[0m |\n",
      "| \u001b[0m4        \u001b[0m | \u001b[0m0.6356   \u001b[0m | \u001b[0m0.1451   \u001b[0m | \u001b[0m0.4924   \u001b[0m |\n",
      "| \u001b[0m5        \u001b[0m | \u001b[0m0.659    \u001b[0m | \u001b[0m0.1452   \u001b[0m | \u001b[0m0.8123   \u001b[0m |\n",
      "| \u001b[0m6        \u001b[0m | \u001b[0m0.659    \u001b[0m | \u001b[0m0.2803   \u001b[0m | \u001b[0m0.8668   \u001b[0m |\n",
      "| \u001b[0m7        \u001b[0m | \u001b[0m0.659    \u001b[0m | \u001b[0m0.1797   \u001b[0m | \u001b[0m0.7348   \u001b[0m |\n",
      "| \u001b[95m8        \u001b[0m | \u001b[95m0.7936   \u001b[0m | \u001b[95m0.4638   \u001b[0m | \u001b[95m0.4017   \u001b[0m |\n",
      "| \u001b[0m9        \u001b[0m | \u001b[0m0.5526   \u001b[0m | \u001b[0m0.5      \u001b[0m | \u001b[0m0.2562   \u001b[0m |\n",
      "| \u001b[0m10       \u001b[0m | \u001b[0m0.659    \u001b[0m | \u001b[0m0.2238   \u001b[0m | \u001b[0m0.4667   \u001b[0m |\n",
      "| \u001b[0m11       \u001b[0m | \u001b[0m0.659    \u001b[0m | \u001b[0m0.3432   \u001b[0m | \u001b[0m0.928    \u001b[0m |\n",
      "| \u001b[0m12       \u001b[0m | \u001b[0m0.659    \u001b[0m | \u001b[0m0.3018   \u001b[0m | \u001b[0m0.7368   \u001b[0m |\n",
      "| \u001b[0m13       \u001b[0m | \u001b[0m0.659    \u001b[0m | \u001b[0m0.3948   \u001b[0m | \u001b[0m0.3395   \u001b[0m |\n",
      "| \u001b[0m14       \u001b[0m | \u001b[0m0.659    \u001b[0m | \u001b[0m0.4165   \u001b[0m | \u001b[0m0.49     \u001b[0m |\n",
      "| \u001b[0m15       \u001b[0m | \u001b[0m0.659    \u001b[0m | \u001b[0m0.2661   \u001b[0m | \u001b[0m0.6781   \u001b[0m |\n",
      "| \u001b[95m16       \u001b[0m | \u001b[95m0.8005   \u001b[0m | \u001b[95m0.4787   \u001b[0m | \u001b[95m0.4162   \u001b[0m |\n",
      "| \u001b[0m17       \u001b[0m | \u001b[0m0.5526   \u001b[0m | \u001b[0m0.4988   \u001b[0m | \u001b[0m0.3839   \u001b[0m |\n",
      "| \u001b[0m18       \u001b[0m | \u001b[0m0.7936   \u001b[0m | \u001b[0m0.4647   \u001b[0m | \u001b[0m0.4164   \u001b[0m |\n",
      "| \u001b[0m19       \u001b[0m | \u001b[0m0.8005   \u001b[0m | \u001b[0m0.4783   \u001b[0m | \u001b[0m0.4346   \u001b[0m |\n",
      "| \u001b[0m20       \u001b[0m | \u001b[0m0.5526   \u001b[0m | \u001b[0m0.4992   \u001b[0m | \u001b[0m0.4335   \u001b[0m |\n",
      "| \u001b[0m21       \u001b[0m | \u001b[0m0.7936   \u001b[0m | \u001b[0m0.4681   \u001b[0m | \u001b[0m0.4333   \u001b[0m |\n",
      "| \u001b[0m22       \u001b[0m | \u001b[0m0.659    \u001b[0m | \u001b[0m0.3456   \u001b[0m | \u001b[0m0.9273   \u001b[0m |\n",
      "| \u001b[0m23       \u001b[0m | \u001b[0m0.6285   \u001b[0m | \u001b[0m0.4801   \u001b[0m | \u001b[0m0.4158   \u001b[0m |\n",
      "| \u001b[0m24       \u001b[0m | \u001b[0m0.659    \u001b[0m | \u001b[0m0.2396   \u001b[0m | \u001b[0m0.1972   \u001b[0m |\n",
      "| \u001b[0m25       \u001b[0m | \u001b[0m0.659    \u001b[0m | \u001b[0m0.3515   \u001b[0m | \u001b[0m0.4685   \u001b[0m |\n",
      "| \u001b[0m26       \u001b[0m | \u001b[0m0.659    \u001b[0m | \u001b[0m0.1284   \u001b[0m | \u001b[0m0.6196   \u001b[0m |\n",
      "| \u001b[0m27       \u001b[0m | \u001b[0m0.659    \u001b[0m | \u001b[0m0.1484   \u001b[0m | \u001b[0m0.9931   \u001b[0m |\n",
      "| \u001b[0m28       \u001b[0m | \u001b[0m0.659    \u001b[0m | \u001b[0m0.2247   \u001b[0m | \u001b[0m0.5347   \u001b[0m |\n",
      "| \u001b[0m29       \u001b[0m | \u001b[0m0.6423   \u001b[0m | \u001b[0m0.1676   \u001b[0m | \u001b[0m0.4048   \u001b[0m |\n",
      "| \u001b[0m30       \u001b[0m | \u001b[0m0.75     \u001b[0m | \u001b[0m0.4557   \u001b[0m | \u001b[0m0.3041   \u001b[0m |\n",
      "| \u001b[0m31       \u001b[0m | \u001b[0m0.629    \u001b[0m | \u001b[0m0.1178   \u001b[0m | \u001b[0m0.2582   \u001b[0m |\n",
      "| \u001b[0m32       \u001b[0m | \u001b[0m0.6934   \u001b[0m | \u001b[0m0.4397   \u001b[0m | \u001b[0m0.6961   \u001b[0m |\n",
      "| \u001b[0m33       \u001b[0m | \u001b[0m0.5841   \u001b[0m | \u001b[0m0.1061   \u001b[0m | \u001b[0m0.2122   \u001b[0m |\n",
      "| \u001b[0m34       \u001b[0m | \u001b[0m0.659    \u001b[0m | \u001b[0m0.2589   \u001b[0m | \u001b[0m0.7324   \u001b[0m |\n",
      "| \u001b[0m35       \u001b[0m | \u001b[0m0.659    \u001b[0m | \u001b[0m0.283    \u001b[0m | \u001b[0m0.4879   \u001b[0m |\n",
      "| \u001b[0m36       \u001b[0m | \u001b[0m0.7936   \u001b[0m | \u001b[0m0.4682   \u001b[0m | \u001b[0m0.4332   \u001b[0m |\n",
      "| \u001b[0m37       \u001b[0m | \u001b[0m0.6423   \u001b[0m | \u001b[0m0.1608   \u001b[0m | \u001b[0m0.1094   \u001b[0m |\n",
      "| \u001b[0m38       \u001b[0m | \u001b[0m0.7936   \u001b[0m | \u001b[0m0.4675   \u001b[0m | \u001b[0m0.4337   \u001b[0m |\n",
      "| \u001b[0m39       \u001b[0m | \u001b[0m0.8005   \u001b[0m | \u001b[0m0.4781   \u001b[0m | \u001b[0m0.4173   \u001b[0m |\n",
      "| \u001b[0m40       \u001b[0m | \u001b[0m0.7936   \u001b[0m | \u001b[0m0.4629   \u001b[0m | \u001b[0m0.4034   \u001b[0m |\n",
      "| \u001b[0m41       \u001b[0m | \u001b[0m0.7418   \u001b[0m | \u001b[0m0.4782   \u001b[0m | \u001b[0m0.4149   \u001b[0m |\n",
      "| \u001b[0m42       \u001b[0m | \u001b[0m0.7901   \u001b[0m | \u001b[0m0.462    \u001b[0m | \u001b[0m0.4012   \u001b[0m |\n",
      "| \u001b[0m43       \u001b[0m | \u001b[0m0.7418   \u001b[0m | \u001b[0m0.4783   \u001b[0m | \u001b[0m0.4328   \u001b[0m |\n",
      "| \u001b[0m44       \u001b[0m | \u001b[0m0.7936   \u001b[0m | \u001b[0m0.4663   \u001b[0m | \u001b[0m0.4142   \u001b[0m |\n",
      "| \u001b[0m45       \u001b[0m | \u001b[0m0.7936   \u001b[0m | \u001b[0m0.4683   \u001b[0m | \u001b[0m0.4155   \u001b[0m |\n",
      "| \u001b[95m46       \u001b[0m | \u001b[95m0.8039   \u001b[0m | \u001b[95m0.4775   \u001b[0m | \u001b[95m0.4364   \u001b[0m |\n",
      "| \u001b[0m47       \u001b[0m | \u001b[0m0.8039   \u001b[0m | \u001b[0m0.4754   \u001b[0m | \u001b[0m0.4347   \u001b[0m |\n",
      "| \u001b[0m48       \u001b[0m | \u001b[0m0.8005   \u001b[0m | \u001b[0m0.4725   \u001b[0m | \u001b[0m0.4325   \u001b[0m |\n",
      "| \u001b[0m49       \u001b[0m | \u001b[0m0.7418   \u001b[0m | \u001b[0m0.4785   \u001b[0m | \u001b[0m0.4161   \u001b[0m |\n",
      "| \u001b[0m50       \u001b[0m | \u001b[0m0.7936   \u001b[0m | \u001b[0m0.4648   \u001b[0m | \u001b[0m0.4153   \u001b[0m |\n",
      "| \u001b[0m51       \u001b[0m | \u001b[0m0.7936   \u001b[0m | \u001b[0m0.464    \u001b[0m | \u001b[0m0.4148   \u001b[0m |\n",
      "| \u001b[0m52       \u001b[0m | \u001b[0m0.7936   \u001b[0m | \u001b[0m0.4632   \u001b[0m | \u001b[0m0.4015   \u001b[0m |\n",
      "| \u001b[0m53       \u001b[0m | \u001b[0m0.7072   \u001b[0m | \u001b[0m0.4236   \u001b[0m | \u001b[0m0.3136   \u001b[0m |\n",
      "| \u001b[0m54       \u001b[0m | \u001b[0m0.7936   \u001b[0m | \u001b[0m0.4643   \u001b[0m | \u001b[0m0.4153   \u001b[0m |\n",
      "| \u001b[0m55       \u001b[0m | \u001b[0m0.7936   \u001b[0m | \u001b[0m0.4657   \u001b[0m | \u001b[0m0.4163   \u001b[0m |\n",
      "=================================================\n"
     ]
    },
    {
     "data": {
      "text/plain": [
       "{'target': 0.8039080459770116,\n",
       " 'params': {'min_samples_leaf': 0.4774639479283226,\n",
       "  'min_samples_split': 0.436424870584057}}"
      ]
     },
     "execution_count": 19,
     "metadata": {},
     "output_type": "execute_result"
    }
   ],
   "source": [
    "dt_bayesopt.maximize(init_points=5, n_iter=50, acq='ucb')\n",
    "dt_bayesopt.max"
   ]
  },
  {
   "cell_type": "code",
   "execution_count": 20,
   "id": "96537b4c",
   "metadata": {},
   "outputs": [],
   "source": [
    "#{'target': 0.8004597701149425,'params': {'min_samples_leaf': 0.47378765131749734,'min_samples_split': 0.4816994460771336}}\n",
    "clf_t = DecisionTreeClassifier()\n",
    "hparams = {\"criterion\": [\"gini\", \"entropy\", \"log_loss\"], \n",
    "           \"max_depth\": [1,2,8,16,32],\n",
    "          \"min_samples_split\": [0.1,0.4816994460771336,0.5],\n",
    "          \"min_samples_leaf\":[0.1,0.47378765131749734,0.5]}"
   ]
  },
  {
   "cell_type": "code",
   "execution_count": 21,
   "id": "573492c9",
   "metadata": {},
   "outputs": [
    {
     "data": {
      "text/plain": [
       "{'criterion': 'gini',\n",
       " 'max_depth': 1,\n",
       " 'min_samples_leaf': 0.47378765131749734,\n",
       " 'min_samples_split': 0.1}"
      ]
     },
     "execution_count": 21,
     "metadata": {},
     "output_type": "execute_result"
    }
   ],
   "source": [
    "GS_estimator = GridSearchCV(clf_t, hparams, cv=10, scoring=\"accuracy\")\n",
    "GS_estimator.fit(X, y)\n",
    "GS_estimator.best_params_"
   ]
  },
  {
   "cell_type": "code",
   "execution_count": 22,
   "id": "21f76b9a",
   "metadata": {},
   "outputs": [
    {
     "data": {
      "text/plain": [
       "array([0.36666667, 0.7       , 0.8       , 1.        , 1.        ,\n",
       "       1.        , 1.        , 0.79310345, 0.68965517, 0.65517241])"
      ]
     },
     "execution_count": 22,
     "metadata": {},
     "output_type": "execute_result"
    }
   ],
   "source": [
    "#DT\n",
    "#best params {\"criterion\": 'gini', \"max_depth\": 1,\"min_samples_split\": 0.1,\"min_samples_leaf\": 0.47378765131749734}\n",
    "clf = DecisionTreeClassifier(criterion='gini',max_depth=1,random_state=0, min_samples_leaf=0.47378765131749734, min_samples_split=0.1,splitter='best')\n",
    "scores = cross_val_score(clf, X, y, cv=10)\n",
    "scores"
   ]
  },
  {
   "cell_type": "code",
   "execution_count": 23,
   "id": "79fc49f9",
   "metadata": {},
   "outputs": [
    {
     "name": "stdout",
     "output_type": "stream",
     "text": [
      "0.80 accuracy with a standard deviation of 0.20\n"
     ]
    }
   ],
   "source": [
    "#The mean score and the standard deviation are hence given by:\n",
    "print(\"%0.2f accuracy with a standard deviation of %0.2f\" % (scores.mean(), scores.std()))"
   ]
  },
  {
   "cell_type": "code",
   "execution_count": 24,
   "id": "12d8b12d",
   "metadata": {},
   "outputs": [
    {
     "data": {
      "text/plain": [
       "array([0.5       , 0.86666667, 0.93333333, 0.9       , 0.73333333,\n",
       "       0.83333333, 0.93333333, 0.93103448, 0.68965517, 0.75862069])"
      ]
     },
     "execution_count": 24,
     "metadata": {},
     "output_type": "execute_result"
    }
   ],
   "source": [
    "#k-neighbors\n",
    "#default: K=5\n",
    "clf = KNeighborsClassifier()\n",
    "scores = cross_val_score(clf, X, y, cv=10)\n",
    "scores"
   ]
  },
  {
   "cell_type": "code",
   "execution_count": 25,
   "id": "5f1a88ad",
   "metadata": {},
   "outputs": [
    {
     "name": "stdout",
     "output_type": "stream",
     "text": [
      "0.81 accuracy with a standard deviation of 0.13\n"
     ]
    }
   ],
   "source": [
    "#The mean score and the standard deviation are hence given by:\n",
    "print(\"%0.2f accuracy with a standard deviation of %0.2f\" % (scores.mean(), scores.std()))"
   ]
  },
  {
   "cell_type": "code",
   "execution_count": 26,
   "id": "005ac337",
   "metadata": {},
   "outputs": [],
   "source": [
    "#List Hyperparameters that we want to tune.\n",
    "leaf_size = [1,5,10,15,20,25,30,35,40,45,50]\n",
    "n_neighbors = [1,5,10,15,20,25,30]\n",
    "p=[1,2]\n",
    "weights = [\"uniform\", \"distance\"]\n",
    "algorithm = [\"auto\", \"ball_tree\", \"kd_tree\", \"brute\"]\n",
    "#Convert to dictionary\n",
    "hyperparameters = dict(leaf_size=leaf_size, n_neighbors=n_neighbors, p=p, weights=weights, algorithm=algorithm)\n",
    "#Create new KNN object\n",
    "knn_2 = KNeighborsClassifier()\n",
    "#Use GridSearch\n",
    "clf_t = GridSearchCV(knn_2, hyperparameters, cv=10)"
   ]
  },
  {
   "cell_type": "code",
   "execution_count": 27,
   "id": "1b0c249d",
   "metadata": {},
   "outputs": [],
   "source": [
    "#Fit the model\n",
    "best_model = clf_t.fit(X,y)"
   ]
  },
  {
   "cell_type": "code",
   "execution_count": 32,
   "id": "607dfb4b",
   "metadata": {},
   "outputs": [
    {
     "name": "stdout",
     "output_type": "stream",
     "text": [
      "leaf-size: 1 \n",
      "p: 1 \n",
      "n_neighbors: 20 \n",
      "weights:  distance \n",
      "algorithm:  auto\n"
     ]
    }
   ],
   "source": [
    "print(\"leaf-size:\", best_model.best_estimator_.get_params()['leaf_size'],\n",
    "     \"\\np:\", best_model.best_estimator_.get_params()['p'],\n",
    "     \"\\nn_neighbors:\", best_model.best_estimator_.get_params()['n_neighbors'],\n",
    "     \"\\nweights: \", best_model.best_estimator_.get_params()['weights'],\n",
    "     \"\\nalgorithm: \",best_model.best_estimator_.get_params()['algorithm']) "
   ]
  },
  {
   "cell_type": "code",
   "execution_count": 33,
   "id": "ba4b53c6",
   "metadata": {},
   "outputs": [
    {
     "data": {
      "text/plain": [
       "array([0.5       , 0.86666667, 0.9       , 0.9       , 0.73333333,\n",
       "       0.86666667, 0.96666667, 0.93103448, 0.79310345, 0.82758621])"
      ]
     },
     "execution_count": 33,
     "metadata": {},
     "output_type": "execute_result"
    }
   ],
   "source": [
    "#k-neighbors\n",
    "#best params: leaf_size = 1, n_neighbors = 20, p=1, weights = distance\", algorithm = \"auto\"\n",
    "clf = KNeighborsClassifier(leaf_size=1, p=1, n_neighbors=20, weights='distance', algorithm='auto')\n",
    "scores = cross_val_score(clf, X, y, cv=10)\n",
    "scores"
   ]
  },
  {
   "cell_type": "code",
   "execution_count": 34,
   "id": "52013c1b",
   "metadata": {},
   "outputs": [
    {
     "name": "stdout",
     "output_type": "stream",
     "text": [
      "0.83 accuracy with a standard deviation of 0.13\n"
     ]
    }
   ],
   "source": [
    "#The mean score and the standard deviation are hence given by:\n",
    "print(\"%0.2f accuracy with a standard deviation of %0.2f\" % (scores.mean(), scores.std()))"
   ]
  },
  {
   "cell_type": "code",
   "execution_count": 45,
   "id": "537c9903",
   "metadata": {},
   "outputs": [
    {
     "data": {
      "text/plain": [
       "array([0.6       , 0.66666667, 0.83333333, 0.86666667, 0.8       ,\n",
       "       0.93333333, 0.96666667, 0.82758621, 0.55172414, 0.82758621])"
      ]
     },
     "execution_count": 45,
     "metadata": {},
     "output_type": "execute_result"
    }
   ],
   "source": [
    "#Random forest\n",
    "clf = RandomForestClassifier()\n",
    "scores = cross_val_score(clf, X, y, cv=10)\n",
    "scores"
   ]
  },
  {
   "cell_type": "code",
   "execution_count": 46,
   "id": "04545e6a",
   "metadata": {},
   "outputs": [
    {
     "name": "stdout",
     "output_type": "stream",
     "text": [
      "0.79 accuracy with a standard deviation of 0.13\n"
     ]
    }
   ],
   "source": [
    "#The mean score and the standard deviation are hence given by:\n",
    "print(\"%0.2f accuracy with a standard deviation of %0.2f\" % (scores.mean(), scores.std()))"
   ]
  },
  {
   "cell_type": "code",
   "execution_count": 74,
   "id": "5a41f7a3",
   "metadata": {},
   "outputs": [],
   "source": [
    "hparams = {\"min_samples_leaf\": (0.1, 0.5), \"min_samples_split\": (0.1, 1.0)}\n",
    "def estimator(min_samples_leaf, min_samples_split):\n",
    "    # initialize model\n",
    "    model = RandomForestClassifier(min_samples_leaf=min_samples_leaf, min_samples_split=min_samples_split)\n",
    "    # set in cross-validation\n",
    "    result = cross_validate(model, X, y, cv=10)\n",
    "    # result is mean of test_score\n",
    "    return np.mean(result['test_score'])\n",
    "from bayes_opt import BayesianOptimization\n",
    "# give model and hyperparameter to optmizer\n",
    "rf_bayesopt = BayesianOptimization(estimator, hparams)"
   ]
  },
  {
   "cell_type": "code",
   "execution_count": 75,
   "id": "9379a115",
   "metadata": {},
   "outputs": [
    {
     "name": "stdout",
     "output_type": "stream",
     "text": [
      "|   iter    |  target   | min_sa... | min_sa... |\n",
      "-------------------------------------------------\n",
      "| \u001b[0m1        \u001b[0m | \u001b[0m0.7872   \u001b[0m | \u001b[0m0.2336   \u001b[0m | \u001b[0m0.1047   \u001b[0m |\n",
      "| \u001b[0m2        \u001b[0m | \u001b[0m0.7739   \u001b[0m | \u001b[0m0.2985   \u001b[0m | \u001b[0m0.5174   \u001b[0m |\n",
      "| \u001b[0m3        \u001b[0m | \u001b[0m0.5389   \u001b[0m | \u001b[0m0.4463   \u001b[0m | \u001b[0m0.346    \u001b[0m |\n",
      "| \u001b[95m4        \u001b[0m | \u001b[95m0.8075   \u001b[0m | \u001b[95m0.2075   \u001b[0m | \u001b[95m0.1518   \u001b[0m |\n",
      "| \u001b[0m5        \u001b[0m | \u001b[0m0.5389   \u001b[0m | \u001b[0m0.2569   \u001b[0m | \u001b[0m0.76     \u001b[0m |\n",
      "| \u001b[0m6        \u001b[0m | \u001b[0m0.8007   \u001b[0m | \u001b[0m0.1      \u001b[0m | \u001b[0m0.1      \u001b[0m |\n",
      "| \u001b[95m7        \u001b[0m | \u001b[95m0.818    \u001b[0m | \u001b[95m0.1      \u001b[0m | \u001b[95m0.3227   \u001b[0m |\n",
      "| \u001b[0m8        \u001b[0m | \u001b[0m0.8011   \u001b[0m | \u001b[0m0.1      \u001b[0m | \u001b[0m0.4979   \u001b[0m |\n",
      "| \u001b[0m9        \u001b[0m | \u001b[0m0.5389   \u001b[0m | \u001b[0m0.5      \u001b[0m | \u001b[0m1.0      \u001b[0m |\n",
      "| \u001b[0m10       \u001b[0m | \u001b[0m0.8077   \u001b[0m | \u001b[0m0.2063   \u001b[0m | \u001b[0m0.3969   \u001b[0m |\n",
      "| \u001b[0m11       \u001b[0m | \u001b[0m0.5389   \u001b[0m | \u001b[0m0.1      \u001b[0m | \u001b[0m1.0      \u001b[0m |\n",
      "| \u001b[0m12       \u001b[0m | \u001b[0m0.5389   \u001b[0m | \u001b[0m0.3729   \u001b[0m | \u001b[0m0.2829   \u001b[0m |\n",
      "| \u001b[0m13       \u001b[0m | \u001b[0m0.5389   \u001b[0m | \u001b[0m0.5      \u001b[0m | \u001b[0m0.6191   \u001b[0m |\n",
      "| \u001b[0m14       \u001b[0m | \u001b[0m0.8145   \u001b[0m | \u001b[0m0.1725   \u001b[0m | \u001b[0m0.1509   \u001b[0m |\n",
      "| \u001b[0m15       \u001b[0m | \u001b[0m0.8145   \u001b[0m | \u001b[0m0.1952   \u001b[0m | \u001b[0m0.5125   \u001b[0m |\n",
      "| \u001b[0m16       \u001b[0m | \u001b[0m0.5389   \u001b[0m | \u001b[0m0.4704   \u001b[0m | \u001b[0m0.7606   \u001b[0m |\n",
      "| \u001b[0m17       \u001b[0m | \u001b[0m0.8075   \u001b[0m | \u001b[0m0.1      \u001b[0m | \u001b[0m0.22     \u001b[0m |\n",
      "| \u001b[0m18       \u001b[0m | \u001b[0m0.818    \u001b[0m | \u001b[0m0.1248   \u001b[0m | \u001b[0m0.4199   \u001b[0m |\n",
      "| \u001b[0m19       \u001b[0m | \u001b[0m0.7906   \u001b[0m | \u001b[0m0.1652   \u001b[0m | \u001b[0m0.2779   \u001b[0m |\n",
      "| \u001b[0m20       \u001b[0m | \u001b[0m0.8143   \u001b[0m | \u001b[0m0.2152   \u001b[0m | \u001b[0m0.4624   \u001b[0m |\n",
      "| \u001b[0m21       \u001b[0m | \u001b[0m0.5389   \u001b[0m | \u001b[0m0.3148   \u001b[0m | \u001b[0m0.9163   \u001b[0m |\n",
      "| \u001b[95m22       \u001b[0m | \u001b[95m0.8249   \u001b[0m | \u001b[95m0.1003   \u001b[0m | \u001b[95m0.6165   \u001b[0m |\n",
      "| \u001b[0m23       \u001b[0m | \u001b[0m0.5389   \u001b[0m | \u001b[0m0.1      \u001b[0m | \u001b[0m0.6869   \u001b[0m |\n",
      "| \u001b[0m24       \u001b[0m | \u001b[0m0.5389   \u001b[0m | \u001b[0m0.5      \u001b[0m | \u001b[0m0.1      \u001b[0m |\n",
      "| \u001b[0m25       \u001b[0m | \u001b[0m0.5389   \u001b[0m | \u001b[0m0.2765   \u001b[0m | \u001b[0m0.9001   \u001b[0m |\n",
      "| \u001b[0m26       \u001b[0m | \u001b[0m0.8178   \u001b[0m | \u001b[0m0.1421   \u001b[0m | \u001b[0m0.5783   \u001b[0m |\n",
      "| \u001b[0m27       \u001b[0m | \u001b[0m0.821    \u001b[0m | \u001b[0m0.1007   \u001b[0m | \u001b[0m0.5675   \u001b[0m |\n",
      "| \u001b[0m28       \u001b[0m | \u001b[0m0.7978   \u001b[0m | \u001b[0m0.2505   \u001b[0m | \u001b[0m0.5978   \u001b[0m |\n",
      "| \u001b[0m29       \u001b[0m | \u001b[0m0.8146   \u001b[0m | \u001b[0m0.1686   \u001b[0m | \u001b[0m0.1      \u001b[0m |\n",
      "| \u001b[0m30       \u001b[0m | \u001b[0m0.8076   \u001b[0m | \u001b[0m0.153    \u001b[0m | \u001b[0m0.3573   \u001b[0m |\n",
      "| \u001b[0m31       \u001b[0m | \u001b[0m0.5389   \u001b[0m | \u001b[0m0.3319   \u001b[0m | \u001b[0m0.6077   \u001b[0m |\n",
      "| \u001b[0m32       \u001b[0m | \u001b[0m0.7638   \u001b[0m | \u001b[0m0.2883   \u001b[0m | \u001b[0m0.4267   \u001b[0m |\n",
      "| \u001b[0m33       \u001b[0m | \u001b[0m0.8178   \u001b[0m | \u001b[0m0.2359   \u001b[0m | \u001b[0m0.5449   \u001b[0m |\n",
      "| \u001b[0m34       \u001b[0m | \u001b[0m0.8144   \u001b[0m | \u001b[0m0.1956   \u001b[0m | \u001b[0m0.61     \u001b[0m |\n",
      "| \u001b[0m35       \u001b[0m | \u001b[0m0.8079   \u001b[0m | \u001b[0m0.1      \u001b[0m | \u001b[0m0.3828   \u001b[0m |\n",
      "| \u001b[0m36       \u001b[0m | \u001b[0m0.8076   \u001b[0m | \u001b[0m0.1281   \u001b[0m | \u001b[0m0.4223   \u001b[0m |\n",
      "| \u001b[0m37       \u001b[0m | \u001b[0m0.5389   \u001b[0m | \u001b[0m0.3363   \u001b[0m | \u001b[0m0.1      \u001b[0m |\n",
      "| \u001b[0m38       \u001b[0m | \u001b[0m0.8178   \u001b[0m | \u001b[0m0.2062   \u001b[0m | \u001b[0m0.3968   \u001b[0m |\n",
      "| \u001b[95m39       \u001b[0m | \u001b[95m0.828    \u001b[0m | \u001b[95m0.2084   \u001b[0m | \u001b[95m0.3911   \u001b[0m |\n",
      "| \u001b[0m40       \u001b[0m | \u001b[0m0.7938   \u001b[0m | \u001b[0m0.2006   \u001b[0m | \u001b[0m0.3924   \u001b[0m |\n",
      "| \u001b[0m41       \u001b[0m | \u001b[0m0.828    \u001b[0m | \u001b[0m0.106    \u001b[0m | \u001b[0m0.6206   \u001b[0m |\n",
      "| \u001b[0m42       \u001b[0m | \u001b[0m0.8144   \u001b[0m | \u001b[0m0.121    \u001b[0m | \u001b[0m0.4256   \u001b[0m |\n",
      "| \u001b[0m43       \u001b[0m | \u001b[0m0.804    \u001b[0m | \u001b[0m0.1999   \u001b[0m | \u001b[0m0.3995   \u001b[0m |\n",
      "| \u001b[0m44       \u001b[0m | \u001b[0m0.7913   \u001b[0m | \u001b[0m0.1003   \u001b[0m | \u001b[0m0.6274   \u001b[0m |\n",
      "| \u001b[0m45       \u001b[0m | \u001b[0m0.7809   \u001b[0m | \u001b[0m0.2658   \u001b[0m | \u001b[0m0.6281   \u001b[0m |\n",
      "| \u001b[95m46       \u001b[0m | \u001b[95m0.8283   \u001b[0m | \u001b[95m0.1078   \u001b[0m | \u001b[95m0.5642   \u001b[0m |\n",
      "| \u001b[95m47       \u001b[0m | \u001b[95m0.8315   \u001b[0m | \u001b[95m0.1015   \u001b[0m | \u001b[95m0.5592   \u001b[0m |\n",
      "| \u001b[0m48       \u001b[0m | \u001b[0m0.5389   \u001b[0m | \u001b[0m0.1297   \u001b[0m | \u001b[0m0.7448   \u001b[0m |\n",
      "| \u001b[0m49       \u001b[0m | \u001b[0m0.8279   \u001b[0m | \u001b[0m0.1281   \u001b[0m | \u001b[0m0.2679   \u001b[0m |\n",
      "| \u001b[0m50       \u001b[0m | \u001b[0m0.8178   \u001b[0m | \u001b[0m0.111    \u001b[0m | \u001b[0m0.5563   \u001b[0m |\n",
      "| \u001b[0m51       \u001b[0m | \u001b[0m0.8146   \u001b[0m | \u001b[0m0.2075   \u001b[0m | \u001b[0m0.1519   \u001b[0m |\n",
      "| \u001b[0m52       \u001b[0m | \u001b[0m0.8143   \u001b[0m | \u001b[0m0.2071   \u001b[0m | \u001b[0m0.1557   \u001b[0m |\n",
      "| \u001b[0m53       \u001b[0m | \u001b[0m0.8216   \u001b[0m | \u001b[0m0.1008   \u001b[0m | \u001b[0m0.622    \u001b[0m |\n",
      "| \u001b[0m54       \u001b[0m | \u001b[0m0.8009   \u001b[0m | \u001b[0m0.2614   \u001b[0m | \u001b[0m0.3508   \u001b[0m |\n",
      "| \u001b[0m55       \u001b[0m | \u001b[0m0.8079   \u001b[0m | \u001b[0m0.1208   \u001b[0m | \u001b[0m0.4256   \u001b[0m |\n",
      "=================================================\n"
     ]
    },
    {
     "data": {
      "text/plain": [
       "{'target': 0.8314942528735634,\n",
       " 'params': {'min_samples_leaf': 0.10154279341986147,\n",
       "  'min_samples_split': 0.5592278993918031}}"
      ]
     },
     "execution_count": 75,
     "metadata": {},
     "output_type": "execute_result"
    }
   ],
   "source": [
    "rf_bayesopt.maximize(init_points=5, n_iter=50, acq='ucb')\n",
    "rf_bayesopt.max"
   ]
  },
  {
   "cell_type": "code",
   "execution_count": 76,
   "id": "e6e02ec7",
   "metadata": {},
   "outputs": [],
   "source": [
    "#{'target': 0.8348275862068967,'params': {'min_samples_leaf': 0.23626468633236386, 'min_samples_split': 0.5174498346335343}}\n",
    "clf_rf = RandomForestClassifier()\n",
    "hparams_rf = {\"criterion\": [\"gini\", \"entropy\", \"log_loss\"], \n",
    "           \"max_depth\": [1,2,8,16,32],\n",
    "          \"min_samples_split\": [0.1,0.5174498346335343,0.5],\n",
    "          \"min_samples_leaf\":[0.1,0.23626468633236386,0.5]}"
   ]
  },
  {
   "cell_type": "code",
   "execution_count": 77,
   "id": "ae91c441",
   "metadata": {},
   "outputs": [
    {
     "name": "stdout",
     "output_type": "stream",
     "text": [
      "{'criterion': 'entropy', 'max_depth': 1, 'min_samples_leaf': 0.1, 'min_samples_split': 0.1}\n"
     ]
    }
   ],
   "source": [
    "GS_estimator = GridSearchCV(clf_rf, hparams_rf, cv=10, scoring=\"accuracy\")\n",
    "GS_estimator.fit(X, y)\n",
    "print(GS_estimator.best_params_)"
   ]
  },
  {
   "cell_type": "code",
   "execution_count": 78,
   "id": "1ca9ba66",
   "metadata": {},
   "outputs": [
    {
     "data": {
      "text/plain": [
       "array([0.6       , 0.63333333, 0.83333333, 0.96666667, 0.83333333,\n",
       "       0.9       , 1.        , 0.82758621, 0.72413793, 0.75862069])"
      ]
     },
     "execution_count": 78,
     "metadata": {},
     "output_type": "execute_result"
    }
   ],
   "source": [
    "#Random forest: \n",
    "#{'criterion': 'log_loss', 'max_depth': 8, 'min_samples_leaf': 0.1, 'min_samples_split': 0.5} - 82\n",
    "clf = RandomForestClassifier(criterion='log_loss',max_depth=8,min_samples_leaf=0.1, min_samples_split=0.5)\n",
    "scores = cross_val_score(clf, X, y, cv=10)\n",
    "scores"
   ]
  },
  {
   "cell_type": "code",
   "execution_count": 79,
   "id": "e86d3324",
   "metadata": {},
   "outputs": [
    {
     "name": "stdout",
     "output_type": "stream",
     "text": [
      "0.81 accuracy with a standard deviation of 0.12\n"
     ]
    }
   ],
   "source": [
    "#The mean score and the standard deviation are hence given by:\n",
    "print(\"%0.2f accuracy with a standard deviation of %0.2f\" % (scores.mean(), scores.std()))"
   ]
  },
  {
   "cell_type": "code",
   "execution_count": 60,
   "id": "64f7c818",
   "metadata": {},
   "outputs": [
    {
     "data": {
      "text/plain": [
       "array([0.53333333, 0.7       , 0.83333333, 0.8       , 0.76666667,\n",
       "       0.86666667, 0.83333333, 0.82758621, 0.72413793, 0.86206897])"
      ]
     },
     "execution_count": 60,
     "metadata": {},
     "output_type": "execute_result"
    }
   ],
   "source": [
    "#MLP\n",
    "clf = MLPClassifier(random_state=1, max_iter=3000)\n",
    "scores = cross_val_score(clf, X, y, cv=10)\n",
    "scores"
   ]
  },
  {
   "cell_type": "code",
   "execution_count": 61,
   "id": "50fe90ea",
   "metadata": {},
   "outputs": [
    {
     "name": "stdout",
     "output_type": "stream",
     "text": [
      "0.77 accuracy with a standard deviation of 0.10\n"
     ]
    }
   ],
   "source": [
    "#The mean score and the standard deviation are hence given by:\n",
    "print(\"%0.2f accuracy with a standard deviation of %0.2f\" % (scores.mean(), scores.std()))"
   ]
  },
  {
   "cell_type": "code",
   "execution_count": 62,
   "id": "33bdf169",
   "metadata": {},
   "outputs": [
    {
     "data": {
      "text/plain": [
       "{'activation': 'tanh',\n",
       " 'alpha': 0.0001,\n",
       " 'learning_rate': 'adaptive',\n",
       " 'solver': 'adam'}"
      ]
     },
     "execution_count": 62,
     "metadata": {},
     "output_type": "execute_result"
    }
   ],
   "source": [
    "mlp = MLPClassifier(max_iter=1000)\n",
    "parameter_space = {\n",
    "    'activation': ['logistic','tanh', 'relu'],\n",
    "    'solver': ['lbfgs','sgd', 'adam'],\n",
    "    'alpha': [0.0001, 0.05],\n",
    "    'learning_rate': ['constant','adaptive'],\n",
    "}\n",
    "clf_t = GridSearchCV(mlp, parameter_space, n_jobs=-1, cv=10)\n",
    "clf_t.fit(X, y)\n",
    "clf_t.best_params_"
   ]
  },
  {
   "cell_type": "code",
   "execution_count": 67,
   "id": "b4f9576a",
   "metadata": {},
   "outputs": [
    {
     "data": {
      "text/plain": [
       "array([0.46666667, 0.83333333, 0.9       , 0.86666667, 0.8       ,\n",
       "       0.86666667, 1.        , 0.86206897, 0.82758621, 0.82758621])"
      ]
     },
     "execution_count": 67,
     "metadata": {},
     "output_type": "execute_result"
    }
   ],
   "source": [
    "#MLP\n",
    "#best params: 'activation': tanh','solver': 'sgd','alpha': 0.05,'learning_rate': 'adaptive'\n",
    "clf = MLPClassifier(max_iter=3000, activation='tanh', alpha=0.05, learning_rate='adaptive',solver='sgd')\n",
    "scores = cross_val_score(clf, X, y, cv=10)\n",
    "scores"
   ]
  },
  {
   "cell_type": "code",
   "execution_count": 68,
   "id": "68fb32e7",
   "metadata": {},
   "outputs": [
    {
     "name": "stdout",
     "output_type": "stream",
     "text": [
      "0.83 accuracy with a standard deviation of 0.13\n"
     ]
    }
   ],
   "source": [
    "#The mean score and the standard deviation are hence given by:\n",
    "print(\"%0.2f accuracy with a standard deviation of %0.2f\" % (scores.mean(), scores.std()))"
   ]
  },
  {
   "cell_type": "code",
   "execution_count": 69,
   "id": "177d0fd3",
   "metadata": {},
   "outputs": [
    {
     "data": {
      "text/plain": [
       "array([0.56666667, 0.7       , 0.76666667, 0.76666667, 0.8       ,\n",
       "       0.96666667, 0.86666667, 0.82758621, 0.48275862, 0.79310345])"
      ]
     },
     "execution_count": 69,
     "metadata": {},
     "output_type": "execute_result"
    }
   ],
   "source": [
    "#GradientBoostingClassifier\n",
    "clf = GradientBoostingClassifier(n_estimators=100, learning_rate=1.0,max_depth=1, random_state=0)\n",
    "scores = cross_val_score(clf, X, y, cv=10)\n",
    "scores"
   ]
  },
  {
   "cell_type": "code",
   "execution_count": 70,
   "id": "b13c8ef9",
   "metadata": {},
   "outputs": [
    {
     "name": "stdout",
     "output_type": "stream",
     "text": [
      "0.75 accuracy with a standard deviation of 0.13\n"
     ]
    }
   ],
   "source": [
    "#The mean score and the standard deviation are hence given by:\n",
    "print(\"%0.2f accuracy with a standard deviation of %0.2f\" % (scores.mean(), scores.std()))"
   ]
  },
  {
   "cell_type": "code",
   "execution_count": 71,
   "id": "4bc96fe2",
   "metadata": {},
   "outputs": [
    {
     "data": {
      "text/plain": [
       "{'learning_rate': 0.1, 'max_depth': 1, 'n_estimators': 50}"
      ]
     },
     "execution_count": 71,
     "metadata": {},
     "output_type": "execute_result"
    }
   ],
   "source": [
    "gbc = GradientBoostingClassifier()\n",
    "parameters = {\n",
    "    \"n_estimators\":[5,50,250,500],\n",
    "    \"max_depth\":[1,3,5,7,9],\n",
    "    \"learning_rate\":[0.01,0.1,1,10,100]\n",
    "}\n",
    "clf_t = GridSearchCV(gbc,parameters,cv=10)\n",
    "clf_t.fit(X,y)\n",
    "clf_t.best_params_"
   ]
  },
  {
   "cell_type": "code",
   "execution_count": 72,
   "id": "03772a8a",
   "metadata": {},
   "outputs": [
    {
     "data": {
      "text/plain": [
       "array([0.63333333, 0.76666667, 0.9       , 0.9       , 0.83333333,\n",
       "       0.9       , 1.        , 0.82758621, 0.79310345, 0.86206897])"
      ]
     },
     "execution_count": 72,
     "metadata": {},
     "output_type": "execute_result"
    }
   ],
   "source": [
    "#GradientBoostingClassifier\n",
    "#best parameters = {\"n_estimators\": 50,\"max_depth\":1,\"learning_rate\":0.1}\n",
    "clf = GradientBoostingClassifier(n_estimators=50, learning_rate=0.1,max_depth=1, random_state=0)\n",
    "scores = cross_val_score(clf, X, y, cv=10)\n",
    "scores"
   ]
  },
  {
   "cell_type": "code",
   "execution_count": 73,
   "id": "17a0625a",
   "metadata": {},
   "outputs": [
    {
     "name": "stdout",
     "output_type": "stream",
     "text": [
      "0.84 accuracy with a standard deviation of 0.09\n"
     ]
    }
   ],
   "source": [
    "#The mean score and the standard deviation are hence given by:\n",
    "print(\"%0.2f accuracy with a standard deviation of %0.2f\" % (scores.mean(), scores.std()))"
   ]
  },
  {
   "cell_type": "code",
   "execution_count": null,
   "id": "8c6a7e99",
   "metadata": {},
   "outputs": [],
   "source": []
  }
 ],
 "metadata": {
  "kernelspec": {
   "display_name": "Python 3 (ipykernel)",
   "language": "python",
   "name": "python3"
  },
  "language_info": {
   "codemirror_mode": {
    "name": "ipython",
    "version": 3
   },
   "file_extension": ".py",
   "mimetype": "text/x-python",
   "name": "python",
   "nbconvert_exporter": "python",
   "pygments_lexer": "ipython3",
   "version": "3.10.8"
  }
 },
 "nbformat": 4,
 "nbformat_minor": 5
}
