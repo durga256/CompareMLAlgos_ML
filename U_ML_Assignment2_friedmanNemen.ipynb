{
 "cells": [
  {
   "cell_type": "code",
   "execution_count": 5,
   "id": "5dfbd5d1",
   "metadata": {},
   "outputs": [],
   "source": [
    "import pandas as pd\n",
    "from scipy.stats import friedmanchisquare"
   ]
  },
  {
   "cell_type": "code",
   "execution_count": 19,
   "id": "620360f3",
   "metadata": {},
   "outputs": [
    {
     "data": {
      "text/html": [
       "<div>\n",
       "<style scoped>\n",
       "    .dataframe tbody tr th:only-of-type {\n",
       "        vertical-align: middle;\n",
       "    }\n",
       "\n",
       "    .dataframe tbody tr th {\n",
       "        vertical-align: top;\n",
       "    }\n",
       "\n",
       "    .dataframe thead th {\n",
       "        text-align: right;\n",
       "    }\n",
       "</style>\n",
       "<table border=\"1\" class=\"dataframe\">\n",
       "  <thead>\n",
       "    <tr style=\"text-align: right;\">\n",
       "      <th></th>\n",
       "      <th>SVM</th>\n",
       "      <th>DT</th>\n",
       "      <th>K-Neighbors</th>\n",
       "      <th>RandomForest</th>\n",
       "      <th>MLP</th>\n",
       "      <th>GradientBoosting</th>\n",
       "    </tr>\n",
       "  </thead>\n",
       "  <tbody>\n",
       "    <tr>\n",
       "      <th>D</th>\n",
       "      <td>90</td>\n",
       "      <td>89</td>\n",
       "      <td>89</td>\n",
       "      <td>90</td>\n",
       "      <td>90</td>\n",
       "      <td>89</td>\n",
       "    </tr>\n",
       "    <tr>\n",
       "      <th>DB1</th>\n",
       "      <td>69</td>\n",
       "      <td>75</td>\n",
       "      <td>84</td>\n",
       "      <td>74</td>\n",
       "      <td>91</td>\n",
       "      <td>88</td>\n",
       "    </tr>\n",
       "    <tr>\n",
       "      <th>DB2</th>\n",
       "      <td>65</td>\n",
       "      <td>77</td>\n",
       "      <td>56</td>\n",
       "      <td>76</td>\n",
       "      <td>71</td>\n",
       "      <td>93</td>\n",
       "    </tr>\n",
       "    <tr>\n",
       "      <th>labor-relations</th>\n",
       "      <td>95</td>\n",
       "      <td>95</td>\n",
       "      <td>96</td>\n",
       "      <td>94</td>\n",
       "      <td>93</td>\n",
       "      <td>95</td>\n",
       "    </tr>\n",
       "    <tr>\n",
       "      <th>heart-disease</th>\n",
       "      <td>84</td>\n",
       "      <td>80</td>\n",
       "      <td>83</td>\n",
       "      <td>81</td>\n",
       "      <td>83</td>\n",
       "      <td>84</td>\n",
       "    </tr>\n",
       "  </tbody>\n",
       "</table>\n",
       "</div>"
      ],
      "text/plain": [
       "                 SVM  DT  K-Neighbors  RandomForest  MLP  GradientBoosting\n",
       "D                 90  89           89            90   90                89\n",
       "DB1               69  75           84            74   91                88\n",
       "DB2               65  77           56            76   71                93\n",
       "labor-relations   95  95           96            94   93                95\n",
       "heart-disease     84  80           83            81   83                84"
      ]
     },
     "execution_count": 19,
     "metadata": {},
     "output_type": "execute_result"
    }
   ],
   "source": [
    "algorithms = ['SVM', 'DT', 'K-Neighbors','RandomForest','MLP','GradientBoosting']\n",
    "DataL = ['D','DB1','DB2','labor-relations','heart-disease']\n",
    "df = pd.DataFrame([[90, 89, 89, 90, 90, 89], [69, 75, 84, 74, 91, 88],[65, 77, 56, 76, 71, 93], [95, 95, 96, 94, 93, 95],[84, 80, 83, 81, 83, 84]], DataL, algorithms)\n",
    "df"
   ]
  },
  {
   "cell_type": "code",
   "execution_count": 32,
   "id": "af17ff42",
   "metadata": {},
   "outputs": [
    {
     "data": {
      "text/html": [
       "<div>\n",
       "<style scoped>\n",
       "    .dataframe tbody tr th:only-of-type {\n",
       "        vertical-align: middle;\n",
       "    }\n",
       "\n",
       "    .dataframe tbody tr th {\n",
       "        vertical-align: top;\n",
       "    }\n",
       "\n",
       "    .dataframe thead th {\n",
       "        text-align: right;\n",
       "    }\n",
       "</style>\n",
       "<table border=\"1\" class=\"dataframe\">\n",
       "  <thead>\n",
       "    <tr style=\"text-align: right;\">\n",
       "      <th></th>\n",
       "      <th>SVM</th>\n",
       "      <th>DT</th>\n",
       "      <th>K-Neighbors</th>\n",
       "      <th>RandomForest</th>\n",
       "      <th>MLP</th>\n",
       "      <th>GradientBoosting</th>\n",
       "    </tr>\n",
       "  </thead>\n",
       "  <tbody>\n",
       "    <tr>\n",
       "      <th>D</th>\n",
       "      <td>90</td>\n",
       "      <td>89</td>\n",
       "      <td>89</td>\n",
       "      <td>90</td>\n",
       "      <td>90</td>\n",
       "      <td>88</td>\n",
       "    </tr>\n",
       "    <tr>\n",
       "      <th>DB1</th>\n",
       "      <td>69</td>\n",
       "      <td>75</td>\n",
       "      <td>84</td>\n",
       "      <td>74</td>\n",
       "      <td>83</td>\n",
       "      <td>88</td>\n",
       "    </tr>\n",
       "    <tr>\n",
       "      <th>DB2</th>\n",
       "      <td>65</td>\n",
       "      <td>77</td>\n",
       "      <td>56</td>\n",
       "      <td>76</td>\n",
       "      <td>68</td>\n",
       "      <td>93</td>\n",
       "    </tr>\n",
       "    <tr>\n",
       "      <th>labor-relations</th>\n",
       "      <td>93</td>\n",
       "      <td>84</td>\n",
       "      <td>89</td>\n",
       "      <td>93</td>\n",
       "      <td>89</td>\n",
       "      <td>84</td>\n",
       "    </tr>\n",
       "    <tr>\n",
       "      <th>heart-disease</th>\n",
       "      <td>81</td>\n",
       "      <td>72</td>\n",
       "      <td>81</td>\n",
       "      <td>79</td>\n",
       "      <td>77</td>\n",
       "      <td>75</td>\n",
       "    </tr>\n",
       "  </tbody>\n",
       "</table>\n",
       "</div>"
      ],
      "text/plain": [
       "                 SVM  DT  K-Neighbors  RandomForest  MLP  GradientBoosting\n",
       "D                 90  89           89            90   90                88\n",
       "DB1               69  75           84            74   83                88\n",
       "DB2               65  77           56            76   68                93\n",
       "labor-relations   93  84           89            93   89                84\n",
       "heart-disease     81  72           81            79   77                75"
      ]
     },
     "execution_count": 32,
     "metadata": {},
     "output_type": "execute_result"
    }
   ],
   "source": [
    "df_beforetuning = pd.DataFrame([[90, 89, 89, 90, 90, 88], [69, 75, 84, 74, 83, 88], [65, 77, 56, 76, 68, 93], [93, 84, 89, 93, 89, 84], [81, 72, 81, 79, 77, 75]], DataL, algorithms)\n",
    "df_beforetuning"
   ]
  },
  {
   "cell_type": "code",
   "execution_count": 33,
   "id": "3b2bfbfa",
   "metadata": {},
   "outputs": [
    {
     "data": {
      "text/html": [
       "<div>\n",
       "<style scoped>\n",
       "    .dataframe tbody tr th:only-of-type {\n",
       "        vertical-align: middle;\n",
       "    }\n",
       "\n",
       "    .dataframe tbody tr th {\n",
       "        vertical-align: top;\n",
       "    }\n",
       "\n",
       "    .dataframe thead th {\n",
       "        text-align: right;\n",
       "    }\n",
       "</style>\n",
       "<table border=\"1\" class=\"dataframe\">\n",
       "  <thead>\n",
       "    <tr style=\"text-align: right;\">\n",
       "      <th></th>\n",
       "      <th>SVM</th>\n",
       "      <th>DT</th>\n",
       "      <th>K-Neighbors</th>\n",
       "      <th>RandomForest</th>\n",
       "      <th>MLP</th>\n",
       "      <th>GradientBoosting</th>\n",
       "    </tr>\n",
       "  </thead>\n",
       "  <tbody>\n",
       "    <tr>\n",
       "      <th>D</th>\n",
       "      <td>2.0</td>\n",
       "      <td>4.5</td>\n",
       "      <td>4.5</td>\n",
       "      <td>2.0</td>\n",
       "      <td>2.0</td>\n",
       "      <td>6.0</td>\n",
       "    </tr>\n",
       "    <tr>\n",
       "      <th>DB1</th>\n",
       "      <td>6.0</td>\n",
       "      <td>4.0</td>\n",
       "      <td>2.0</td>\n",
       "      <td>5.0</td>\n",
       "      <td>3.0</td>\n",
       "      <td>1.0</td>\n",
       "    </tr>\n",
       "    <tr>\n",
       "      <th>DB2</th>\n",
       "      <td>5.0</td>\n",
       "      <td>2.0</td>\n",
       "      <td>6.0</td>\n",
       "      <td>3.0</td>\n",
       "      <td>4.0</td>\n",
       "      <td>1.0</td>\n",
       "    </tr>\n",
       "    <tr>\n",
       "      <th>labor-relations</th>\n",
       "      <td>1.5</td>\n",
       "      <td>5.5</td>\n",
       "      <td>3.5</td>\n",
       "      <td>1.5</td>\n",
       "      <td>3.5</td>\n",
       "      <td>5.5</td>\n",
       "    </tr>\n",
       "    <tr>\n",
       "      <th>heart-disease</th>\n",
       "      <td>1.5</td>\n",
       "      <td>6.0</td>\n",
       "      <td>1.5</td>\n",
       "      <td>3.0</td>\n",
       "      <td>4.0</td>\n",
       "      <td>5.0</td>\n",
       "    </tr>\n",
       "  </tbody>\n",
       "</table>\n",
       "</div>"
      ],
      "text/plain": [
       "                 SVM   DT  K-Neighbors  RandomForest  MLP  GradientBoosting\n",
       "D                2.0  4.5          4.5           2.0  2.0               6.0\n",
       "DB1              6.0  4.0          2.0           5.0  3.0               1.0\n",
       "DB2              5.0  2.0          6.0           3.0  4.0               1.0\n",
       "labor-relations  1.5  5.5          3.5           1.5  3.5               5.5\n",
       "heart-disease    1.5  6.0          1.5           3.0  4.0               5.0"
      ]
     },
     "execution_count": 33,
     "metadata": {},
     "output_type": "execute_result"
    }
   ],
   "source": [
    "df_beforetuning = df_beforetuning.rank(axis=1,ascending=False)\n",
    "df_beforetuning"
   ]
  },
  {
   "cell_type": "code",
   "execution_count": 29,
   "id": "a0b7c48c",
   "metadata": {},
   "outputs": [
    {
     "data": {
      "text/html": [
       "<div>\n",
       "<style scoped>\n",
       "    .dataframe tbody tr th:only-of-type {\n",
       "        vertical-align: middle;\n",
       "    }\n",
       "\n",
       "    .dataframe tbody tr th {\n",
       "        vertical-align: top;\n",
       "    }\n",
       "\n",
       "    .dataframe thead th {\n",
       "        text-align: right;\n",
       "    }\n",
       "</style>\n",
       "<table border=\"1\" class=\"dataframe\">\n",
       "  <thead>\n",
       "    <tr style=\"text-align: right;\">\n",
       "      <th></th>\n",
       "      <th>SVM</th>\n",
       "      <th>DT</th>\n",
       "      <th>K-Neighbors</th>\n",
       "      <th>RandomForest</th>\n",
       "      <th>MLP</th>\n",
       "      <th>GradientBoosting</th>\n",
       "    </tr>\n",
       "  </thead>\n",
       "  <tbody>\n",
       "    <tr>\n",
       "      <th>D</th>\n",
       "      <td>2.0</td>\n",
       "      <td>5.0</td>\n",
       "      <td>5.0</td>\n",
       "      <td>2.0</td>\n",
       "      <td>2.0</td>\n",
       "      <td>5.0</td>\n",
       "    </tr>\n",
       "    <tr>\n",
       "      <th>DB1</th>\n",
       "      <td>6.0</td>\n",
       "      <td>4.0</td>\n",
       "      <td>3.0</td>\n",
       "      <td>5.0</td>\n",
       "      <td>1.0</td>\n",
       "      <td>2.0</td>\n",
       "    </tr>\n",
       "    <tr>\n",
       "      <th>DB2</th>\n",
       "      <td>5.0</td>\n",
       "      <td>2.0</td>\n",
       "      <td>6.0</td>\n",
       "      <td>3.0</td>\n",
       "      <td>4.0</td>\n",
       "      <td>1.0</td>\n",
       "    </tr>\n",
       "    <tr>\n",
       "      <th>labor-relations</th>\n",
       "      <td>3.0</td>\n",
       "      <td>3.0</td>\n",
       "      <td>1.0</td>\n",
       "      <td>5.0</td>\n",
       "      <td>6.0</td>\n",
       "      <td>3.0</td>\n",
       "    </tr>\n",
       "    <tr>\n",
       "      <th>heart-disease</th>\n",
       "      <td>1.5</td>\n",
       "      <td>6.0</td>\n",
       "      <td>3.5</td>\n",
       "      <td>5.0</td>\n",
       "      <td>3.5</td>\n",
       "      <td>1.5</td>\n",
       "    </tr>\n",
       "  </tbody>\n",
       "</table>\n",
       "</div>"
      ],
      "text/plain": [
       "                 SVM   DT  K-Neighbors  RandomForest  MLP  GradientBoosting\n",
       "D                2.0  5.0          5.0           2.0  2.0               5.0\n",
       "DB1              6.0  4.0          3.0           5.0  1.0               2.0\n",
       "DB2              5.0  2.0          6.0           3.0  4.0               1.0\n",
       "labor-relations  3.0  3.0          1.0           5.0  6.0               3.0\n",
       "heart-disease    1.5  6.0          3.5           5.0  3.5               1.5"
      ]
     },
     "execution_count": 29,
     "metadata": {},
     "output_type": "execute_result"
    }
   ],
   "source": [
    "df = df.rank(axis=1,ascending=False)\n",
    "df"
   ]
  },
  {
   "cell_type": "code",
   "execution_count": 34,
   "id": "a810cfc3",
   "metadata": {},
   "outputs": [
    {
     "data": {
      "text/plain": [
       "FriedmanchisquareResult(statistic=2.018072289156623, pvalue=0.8466387819271007)"
      ]
     },
     "execution_count": 34,
     "metadata": {},
     "output_type": "execute_result"
    }
   ],
   "source": [
    "#before tuning\n",
    "spRes_beforetuning = friedmanchisquare(df_beforetuning['SVM'], df_beforetuning['DT'], df_beforetuning['K-Neighbors'],df_beforetuning['RandomForest'], df_beforetuning['MLP'], df_beforetuning['GradientBoosting'])\n",
    "spRes_beforetuning"
   ]
  },
  {
   "cell_type": "code",
   "execution_count": 27,
   "id": "7fe95da3",
   "metadata": {},
   "outputs": [
    {
     "data": {
      "text/plain": [
       "FriedmanchisquareResult(statistic=2.453416149068318, pvalue=0.7834937640533933)"
      ]
     },
     "execution_count": 27,
     "metadata": {},
     "output_type": "execute_result"
    }
   ],
   "source": [
    "spRes = friedmanchisquare(df['SVM'], df['DT'], df['K-Neighbors'],df['RandomForest'], df['MLP'], df['GradientBoosting'])\n",
    "spRes"
   ]
  },
  {
   "cell_type": "code",
   "execution_count": null,
   "id": "926a696b",
   "metadata": {},
   "outputs": [],
   "source": [
    "#for friedman at n=5, k=6 and alpha=0.05 the statistic is 10.49, thus the null hypothesis holds true"
   ]
  }
 ],
 "metadata": {
  "kernelspec": {
   "display_name": "Python 3 (ipykernel)",
   "language": "python",
   "name": "python3"
  },
  "language_info": {
   "codemirror_mode": {
    "name": "ipython",
    "version": 3
   },
   "file_extension": ".py",
   "mimetype": "text/x-python",
   "name": "python",
   "nbconvert_exporter": "python",
   "pygments_lexer": "ipython3",
   "version": "3.10.8"
  }
 },
 "nbformat": 4,
 "nbformat_minor": 5
}
